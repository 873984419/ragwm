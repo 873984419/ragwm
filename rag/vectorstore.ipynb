{
 "cells": [
  {
   "cell_type": "code",
   "execution_count": 27,
   "metadata": {},
   "outputs": [
    {
     "name": "stdout",
     "output_type": "stream",
     "text": [
      "/data/sunmengjie/lpz/ragwm\n"
     ]
    }
   ],
   "source": [
    "\n",
    "from datasets import load_dataset\n",
    "\n",
    "import argparse\n",
    "\n",
    "import chromadb\n",
    "from sentence_transformers import SentenceTransformer\n",
    "\n",
    "import os\n",
    "import sys\n",
    "import torch\n",
    "project_root = os.path.abspath(os.path.join(os.path.dirname('./'), '..'))\n",
    "print(project_root)\n",
    "# 添加项目根目录到sys.path\n",
    " \n",
    "sys.path.append(project_root)\n",
    "from src.utils import load_beir_datasets, load_models,load_json\n",
    "import argparse\n",
    "\n"
   ]
  },
  {
   "cell_type": "code",
   "execution_count": null,
   "metadata": {},
   "outputs": [],
   "source": [
    "ChromadbPath = '/data/sunmengjie/chromdb_back/smj_db'\n",
    "# ChromadbPath = '/data/sunmengjie/msmarco-contriever'"
   ]
  },
  {
   "cell_type": "code",
   "execution_count": 29,
   "metadata": {},
   "outputs": [],
   "source": [
    "chroma_client = chromadb.PersistentClient(path=ChromadbPath ) "
   ]
  },
  {
   "cell_type": "code",
   "execution_count": 30,
   "metadata": {},
   "outputs": [
    {
     "name": "stdout",
     "output_type": "stream",
     "text": [
      "Collection(name=msmarco_contriever_cosine)\n",
      "msmarco_contriever_cosine\n"
     ]
    }
   ],
   "source": [
    "chroma_client = chromadb.PersistentClient(path=ChromadbPath ) \n",
    "collections =  chroma_client.list_collections()\n",
    "for collection in collections:\n",
    "     print(collection)\n",
    "     print(collection.name)\n",
    "     # chroma_client.delete_collection(name=collection.name)"
   ]
  },
  {
   "cell_type": "code",
   "execution_count": null,
   "metadata": {},
   "outputs": [],
   "source": []
  },
  {
   "cell_type": "code",
   "execution_count": 31,
   "metadata": {},
   "outputs": [],
   "source": [
    "import torch"
   ]
  },
  {
   "cell_type": "code",
   "execution_count": 32,
   "metadata": {},
   "outputs": [],
   "source": [
    "torch.cuda.set_device(2)\n",
    "device = 'cuda'"
   ]
  },
  {
   "cell_type": "code",
   "execution_count": 33,
   "metadata": {},
   "outputs": [
    {
     "name": "stdout",
     "output_type": "stream",
     "text": [
      "msmarco_contriever_cosine msmarco\n"
     ]
    }
   ],
   "source": [
    "dataname_list = ['trec-covid','msmarco']\n",
    "# eval_dataset = 'msmarco'\n",
    "eval_dataset = dataname_list[1]\n",
    "eval_model_code = \"contriever\"\n",
    "score_function ='cosine'\n",
    "split = 'test'\n",
    "collection_name = f'{eval_dataset}_contriever_cosine'\n",
    "print(collection_name, eval_dataset)"
   ]
  },
  {
   "cell_type": "code",
   "execution_count": 34,
   "metadata": {},
   "outputs": [
    {
     "name": "stderr",
     "output_type": "stream",
     "text": [
      "Some weights of the model checkpoint at facebook/contriever were not used when initializing Contriever: ['pooler.dense.bias', 'pooler.dense.weight']\n",
      "- This IS expected if you are initializing Contriever from the checkpoint of a model trained on another task or with another architecture (e.g. initializing a BertForSequenceClassification model from a BertForPreTraining model).\n",
      "- This IS NOT expected if you are initializing Contriever from the checkpoint of a model that you expect to be exactly identical (initializing a BertForSequenceClassification model from a BertForSequenceClassification model).\n",
      "/data/sunmengjie/miniconda3/envs/wmrag/lib/python3.10/site-packages/transformers/tokenization_utils_base.py:1601: FutureWarning: `clean_up_tokenization_spaces` was not set. It will be set to `True` by default. This behavior will be depracted in transformers v4.45, and will be then set to `False` by default. For more details check this issue: https://github.com/huggingface/transformers/issues/31884\n",
      "  warnings.warn(\n"
     ]
    },
    {
     "name": "stdout",
     "output_type": "stream",
     "text": [
      "/data/sunmengjie/lpz/ragwm/datasets/msmarco\n",
      "/data/sunmengjie/lpz/ragwm/datasets/msmarco\n"
     ]
    },
    {
     "name": "stderr",
     "output_type": "stream",
     "text": [
      "100%|██████████| 8841823/8841823 [00:47<00:00, 185934.08it/s]\n"
     ]
    }
   ],
   "source": [
    "model, c_model, tokenizer, get_emb = load_models( eval_model_code)\n",
    "\n",
    "if eval_dataset == 'msmarco':\n",
    "    corpus, queries, qrels = load_beir_datasets('msmarco', 'train')\n",
    "else:\n",
    "    corpus, queries, qrels = load_beir_datasets(eval_dataset, split)\n",
    "\n",
    "\n"
   ]
  },
  {
   "cell_type": "code",
   "execution_count": 17,
   "metadata": {},
   "outputs": [
    {
     "name": "stdout",
     "output_type": "stream",
     "text": [
      "msmarco_contriever_cosine\n",
      "[Collection(name=msmarco_contriever_cosine), Collection(name=nfcorpus_contriever_cosine), Collection(name=hotpotqa_contriever_cosine), Collection(name=trec-covid_contriever_cosine), Collection(name=nq_contriever_cosine)]\n",
      "Here are using an exsiting local chromadb named msmarco_contriever_cosine!!! \n",
      "Here are using an exsiting local chromadb named msmarco_contriever_cosine!!! \n"
     ]
    }
   ],
   "source": [
    "from rag.vectorstore import  VectorStore, check_collection\n",
    "\n",
    "print(collection_name)\n",
    "vectorstore = VectorStore(model, tokenizer, get_emb, corpus, device, collection_name, use_local=True)  "
   ]
  },
  {
   "cell_type": "code",
   "execution_count": 35,
   "metadata": {},
   "outputs": [
    {
     "ename": "EOFError",
     "evalue": "Ran out of input",
     "output_type": "error",
     "traceback": [
      "\u001b[0;31m---------------------------------------------------------------------------\u001b[0m",
      "\u001b[0;31mEOFError\u001b[0m                                  Traceback (most recent call last)",
      "Cell \u001b[0;32mIn[35], line 1\u001b[0m\n\u001b[0;32m----> 1\u001b[0m \u001b[43mvectorstore\u001b[49m\u001b[38;5;241;43m.\u001b[39;49m\u001b[43mpopulate_vectors\u001b[49m\u001b[43m(\u001b[49m\u001b[43m)\u001b[49m\n",
      "File \u001b[0;32m/data/sunmengjie/lpz/ragwm/rag/vectorstore.py:96\u001b[0m, in \u001b[0;36mVectorStore.populate_vectors\u001b[0;34m(self)\u001b[0m\n\u001b[1;32m     94\u001b[0m value \u001b[38;5;241m=\u001b[39m \u001b[38;5;28mself\u001b[39m\u001b[38;5;241m.\u001b[39mdataset[key]\n\u001b[1;32m     95\u001b[0m text_emb \u001b[38;5;241m=\u001b[39m \u001b[38;5;28mself\u001b[39m\u001b[38;5;241m.\u001b[39mget_embedding(value[\u001b[38;5;124m'\u001b[39m\u001b[38;5;124mtext\u001b[39m\u001b[38;5;124m'\u001b[39m])\n\u001b[0;32m---> 96\u001b[0m \u001b[38;5;28;43mself\u001b[39;49m\u001b[38;5;241;43m.\u001b[39;49m\u001b[43mcollection\u001b[49m\u001b[38;5;241;43m.\u001b[39;49m\u001b[43madd\u001b[49m\u001b[43m(\u001b[49m\u001b[43membeddings\u001b[49m\u001b[38;5;241;43m=\u001b[39;49m\u001b[43m[\u001b[49m\u001b[43mtext_emb\u001b[49m\u001b[43m \u001b[49m\u001b[43m]\u001b[49m\u001b[43m,\u001b[49m\u001b[43m \u001b[49m\u001b[43mdocuments\u001b[49m\u001b[38;5;241;43m=\u001b[39;49m\u001b[43m[\u001b[49m\u001b[43mvalue\u001b[49m\u001b[43m[\u001b[49m\u001b[38;5;124;43m'\u001b[39;49m\u001b[38;5;124;43mtext\u001b[39;49m\u001b[38;5;124;43m'\u001b[39;49m\u001b[43m]\u001b[49m\u001b[43m]\u001b[49m\u001b[43m,\u001b[49m\u001b[43m \u001b[49m\u001b[43mids\u001b[49m\u001b[38;5;241;43m=\u001b[39;49m\u001b[43m[\u001b[49m\u001b[38;5;124;43mf\u001b[39;49m\u001b[38;5;124;43m'\u001b[39;49m\u001b[38;5;124;43mid_\u001b[39;49m\u001b[38;5;132;43;01m{\u001b[39;49;00m\u001b[43mcount\u001b[49m\u001b[38;5;132;43;01m}\u001b[39;49;00m\u001b[38;5;124;43m'\u001b[39;49m\u001b[43m]\u001b[49m\u001b[43m,\u001b[49m\u001b[43m \u001b[49m\u001b[43mmetadatas\u001b[49m\u001b[38;5;241;43m=\u001b[39;49m\u001b[43m{\u001b[49m\u001b[38;5;124;43m'\u001b[39;49m\u001b[38;5;124;43mtitle\u001b[39;49m\u001b[38;5;124;43m'\u001b[39;49m\u001b[43m:\u001b[49m\u001b[43m \u001b[49m\u001b[43mvalue\u001b[49m\u001b[43m[\u001b[49m\u001b[38;5;124;43m'\u001b[39;49m\u001b[38;5;124;43mtitle\u001b[39;49m\u001b[38;5;124;43m'\u001b[39;49m\u001b[43m]\u001b[49m\u001b[43m,\u001b[49m\u001b[43m \u001b[49m\u001b[38;5;124;43m'\u001b[39;49m\u001b[38;5;124;43mid\u001b[39;49m\u001b[38;5;124;43m'\u001b[39;49m\u001b[43m:\u001b[49m\u001b[43mkey\u001b[49m\u001b[43m \u001b[49m\u001b[43m,\u001b[49m\u001b[43m \u001b[49m\u001b[38;5;124;43m'\u001b[39;49m\u001b[38;5;124;43mchange\u001b[39;49m\u001b[38;5;124;43m'\u001b[39;49m\u001b[43m:\u001b[49m\u001b[38;5;28;43;01mFalse\u001b[39;49;00m\u001b[43m}\u001b[49m\u001b[43m)\u001b[49m\n\u001b[1;32m     99\u001b[0m \u001b[38;5;28;01mif\u001b[39;00m count \u001b[38;5;241m%\u001b[39m \u001b[38;5;241m500\u001b[39m \u001b[38;5;241m==\u001b[39m \u001b[38;5;241m0\u001b[39m:\n\u001b[1;32m    100\u001b[0m     \u001b[38;5;28mprint\u001b[39m(count)\n",
      "File \u001b[0;32m~/.local/lib/python3.10/site-packages/chromadb/api/models/Collection.py:90\u001b[0m, in \u001b[0;36mCollection.add\u001b[0;34m(self, ids, embeddings, metadatas, documents, images, uris)\u001b[0m\n\u001b[1;32m     60\u001b[0m \u001b[38;5;250m\u001b[39m\u001b[38;5;124;03m\"\"\"Add embeddings to the data store.\u001b[39;00m\n\u001b[1;32m     61\u001b[0m \u001b[38;5;124;03mArgs:\u001b[39;00m\n\u001b[1;32m     62\u001b[0m \u001b[38;5;124;03m    ids: The ids of the embeddings you wish to add\u001b[39;00m\n\u001b[0;32m   (...)\u001b[0m\n\u001b[1;32m     78\u001b[0m \n\u001b[1;32m     79\u001b[0m \u001b[38;5;124;03m\"\"\"\u001b[39;00m\n\u001b[1;32m     81\u001b[0m add_request \u001b[38;5;241m=\u001b[39m \u001b[38;5;28mself\u001b[39m\u001b[38;5;241m.\u001b[39m_validate_and_prepare_add_request(\n\u001b[1;32m     82\u001b[0m     ids\u001b[38;5;241m=\u001b[39mids,\n\u001b[1;32m     83\u001b[0m     embeddings\u001b[38;5;241m=\u001b[39membeddings,\n\u001b[0;32m   (...)\u001b[0m\n\u001b[1;32m     87\u001b[0m     uris\u001b[38;5;241m=\u001b[39muris,\n\u001b[1;32m     88\u001b[0m )\n\u001b[0;32m---> 90\u001b[0m \u001b[38;5;28;43mself\u001b[39;49m\u001b[38;5;241;43m.\u001b[39;49m\u001b[43m_client\u001b[49m\u001b[38;5;241;43m.\u001b[39;49m\u001b[43m_add\u001b[49m\u001b[43m(\u001b[49m\n\u001b[1;32m     91\u001b[0m \u001b[43m    \u001b[49m\u001b[43mcollection_id\u001b[49m\u001b[38;5;241;43m=\u001b[39;49m\u001b[38;5;28;43mself\u001b[39;49m\u001b[38;5;241;43m.\u001b[39;49m\u001b[43mid\u001b[49m\u001b[43m,\u001b[49m\n\u001b[1;32m     92\u001b[0m \u001b[43m    \u001b[49m\u001b[43mids\u001b[49m\u001b[38;5;241;43m=\u001b[39;49m\u001b[43madd_request\u001b[49m\u001b[43m[\u001b[49m\u001b[38;5;124;43m\"\u001b[39;49m\u001b[38;5;124;43mids\u001b[39;49m\u001b[38;5;124;43m\"\u001b[39;49m\u001b[43m]\u001b[49m\u001b[43m,\u001b[49m\n\u001b[1;32m     93\u001b[0m \u001b[43m    \u001b[49m\u001b[43membeddings\u001b[49m\u001b[38;5;241;43m=\u001b[39;49m\u001b[43madd_request\u001b[49m\u001b[43m[\u001b[49m\u001b[38;5;124;43m\"\u001b[39;49m\u001b[38;5;124;43membeddings\u001b[39;49m\u001b[38;5;124;43m\"\u001b[39;49m\u001b[43m]\u001b[49m\u001b[43m,\u001b[49m\n\u001b[1;32m     94\u001b[0m \u001b[43m    \u001b[49m\u001b[43mmetadatas\u001b[49m\u001b[38;5;241;43m=\u001b[39;49m\u001b[43madd_request\u001b[49m\u001b[43m[\u001b[49m\u001b[38;5;124;43m\"\u001b[39;49m\u001b[38;5;124;43mmetadatas\u001b[39;49m\u001b[38;5;124;43m\"\u001b[39;49m\u001b[43m]\u001b[49m\u001b[43m,\u001b[49m\n\u001b[1;32m     95\u001b[0m \u001b[43m    \u001b[49m\u001b[43mdocuments\u001b[49m\u001b[38;5;241;43m=\u001b[39;49m\u001b[43madd_request\u001b[49m\u001b[43m[\u001b[49m\u001b[38;5;124;43m\"\u001b[39;49m\u001b[38;5;124;43mdocuments\u001b[39;49m\u001b[38;5;124;43m\"\u001b[39;49m\u001b[43m]\u001b[49m\u001b[43m,\u001b[49m\n\u001b[1;32m     96\u001b[0m \u001b[43m    \u001b[49m\u001b[43muris\u001b[49m\u001b[38;5;241;43m=\u001b[39;49m\u001b[43madd_request\u001b[49m\u001b[43m[\u001b[49m\u001b[38;5;124;43m\"\u001b[39;49m\u001b[38;5;124;43muris\u001b[39;49m\u001b[38;5;124;43m\"\u001b[39;49m\u001b[43m]\u001b[49m\u001b[43m,\u001b[49m\n\u001b[1;32m     97\u001b[0m \u001b[43m    \u001b[49m\u001b[43mtenant\u001b[49m\u001b[38;5;241;43m=\u001b[39;49m\u001b[38;5;28;43mself\u001b[39;49m\u001b[38;5;241;43m.\u001b[39;49m\u001b[43mtenant\u001b[49m\u001b[43m,\u001b[49m\n\u001b[1;32m     98\u001b[0m \u001b[43m    \u001b[49m\u001b[43mdatabase\u001b[49m\u001b[38;5;241;43m=\u001b[39;49m\u001b[38;5;28;43mself\u001b[39;49m\u001b[38;5;241;43m.\u001b[39;49m\u001b[43mdatabase\u001b[49m\u001b[43m,\u001b[49m\n\u001b[1;32m     99\u001b[0m \u001b[43m\u001b[49m\u001b[43m)\u001b[49m\n",
      "File \u001b[0;32m~/.local/lib/python3.10/site-packages/chromadb/telemetry/opentelemetry/__init__.py:150\u001b[0m, in \u001b[0;36mtrace_method.<locals>.decorator.<locals>.wrapper\u001b[0;34m(*args, **kwargs)\u001b[0m\n\u001b[1;32m    148\u001b[0m \u001b[38;5;28;01mglobal\u001b[39;00m tracer, granularity\n\u001b[1;32m    149\u001b[0m \u001b[38;5;28;01mif\u001b[39;00m trace_granularity \u001b[38;5;241m<\u001b[39m granularity:\n\u001b[0;32m--> 150\u001b[0m     \u001b[38;5;28;01mreturn\u001b[39;00m \u001b[43mf\u001b[49m\u001b[43m(\u001b[49m\u001b[38;5;241;43m*\u001b[39;49m\u001b[43margs\u001b[49m\u001b[43m,\u001b[49m\u001b[43m \u001b[49m\u001b[38;5;241;43m*\u001b[39;49m\u001b[38;5;241;43m*\u001b[39;49m\u001b[43mkwargs\u001b[49m\u001b[43m)\u001b[49m\n\u001b[1;32m    151\u001b[0m \u001b[38;5;28;01mif\u001b[39;00m \u001b[38;5;129;01mnot\u001b[39;00m tracer:\n\u001b[1;32m    152\u001b[0m     \u001b[38;5;28;01mreturn\u001b[39;00m f(\u001b[38;5;241m*\u001b[39margs, \u001b[38;5;241m*\u001b[39m\u001b[38;5;241m*\u001b[39mkwargs)\n",
      "File \u001b[0;32m~/.local/lib/python3.10/site-packages/chromadb/api/segment.py:103\u001b[0m, in \u001b[0;36mrate_limit.<locals>.wrapper\u001b[0;34m(*args, **kwargs)\u001b[0m\n\u001b[1;32m    100\u001b[0m \u001b[38;5;129m@wraps\u001b[39m(func)\n\u001b[1;32m    101\u001b[0m \u001b[38;5;28;01mdef\u001b[39;00m \u001b[38;5;21mwrapper\u001b[39m(\u001b[38;5;241m*\u001b[39margs: Any, \u001b[38;5;241m*\u001b[39m\u001b[38;5;241m*\u001b[39mkwargs: Any) \u001b[38;5;241m-\u001b[39m\u001b[38;5;241m>\u001b[39m Any:\n\u001b[1;32m    102\u001b[0m     \u001b[38;5;28mself\u001b[39m \u001b[38;5;241m=\u001b[39m args[\u001b[38;5;241m0\u001b[39m]\n\u001b[0;32m--> 103\u001b[0m     \u001b[38;5;28;01mreturn\u001b[39;00m \u001b[38;5;28;43mself\u001b[39;49m\u001b[38;5;241;43m.\u001b[39;49m\u001b[43m_rate_limit_enforcer\u001b[49m\u001b[38;5;241;43m.\u001b[39;49m\u001b[43mrate_limit\u001b[49m\u001b[43m(\u001b[49m\u001b[43mfunc\u001b[49m\u001b[43m)\u001b[49m\u001b[43m(\u001b[49m\u001b[38;5;241;43m*\u001b[39;49m\u001b[43margs\u001b[49m\u001b[43m,\u001b[49m\u001b[43m \u001b[49m\u001b[38;5;241;43m*\u001b[39;49m\u001b[38;5;241;43m*\u001b[39;49m\u001b[43mkwargs\u001b[49m\u001b[43m)\u001b[49m\n",
      "File \u001b[0;32m~/.local/lib/python3.10/site-packages/chromadb/rate_limit/simple_rate_limit/__init__.py:23\u001b[0m, in \u001b[0;36mSimpleRateLimitEnforcer.rate_limit.<locals>.wrapper\u001b[0;34m(*args, **kwargs)\u001b[0m\n\u001b[1;32m     21\u001b[0m \u001b[38;5;129m@wraps\u001b[39m(func)\n\u001b[1;32m     22\u001b[0m \u001b[38;5;28;01mdef\u001b[39;00m \u001b[38;5;21mwrapper\u001b[39m(\u001b[38;5;241m*\u001b[39margs: Any, \u001b[38;5;241m*\u001b[39m\u001b[38;5;241m*\u001b[39mkwargs: Any) \u001b[38;5;241m-\u001b[39m\u001b[38;5;241m>\u001b[39m Any:\n\u001b[0;32m---> 23\u001b[0m     \u001b[38;5;28;01mreturn\u001b[39;00m \u001b[43mfunc\u001b[49m\u001b[43m(\u001b[49m\u001b[38;5;241;43m*\u001b[39;49m\u001b[43margs\u001b[49m\u001b[43m,\u001b[49m\u001b[43m \u001b[49m\u001b[38;5;241;43m*\u001b[39;49m\u001b[38;5;241;43m*\u001b[39;49m\u001b[43mkwargs\u001b[49m\u001b[43m)\u001b[49m\n",
      "File \u001b[0;32m~/.local/lib/python3.10/site-packages/chromadb/api/segment.py:410\u001b[0m, in \u001b[0;36mSegmentAPI._add\u001b[0;34m(self, ids, collection_id, embeddings, metadatas, documents, uris, tenant, database)\u001b[0m\n\u001b[1;32m    395\u001b[0m \u001b[38;5;129m@trace_method\u001b[39m(\u001b[38;5;124m\"\u001b[39m\u001b[38;5;124mSegmentAPI._add\u001b[39m\u001b[38;5;124m\"\u001b[39m, OpenTelemetryGranularity\u001b[38;5;241m.\u001b[39mOPERATION)\n\u001b[1;32m    396\u001b[0m \u001b[38;5;129m@override\u001b[39m\n\u001b[1;32m    397\u001b[0m \u001b[38;5;129m@rate_limit\u001b[39m\n\u001b[0;32m   (...)\u001b[0m\n\u001b[1;32m    407\u001b[0m     database: \u001b[38;5;28mstr\u001b[39m \u001b[38;5;241m=\u001b[39m DEFAULT_DATABASE,\n\u001b[1;32m    408\u001b[0m ) \u001b[38;5;241m-\u001b[39m\u001b[38;5;241m>\u001b[39m \u001b[38;5;28mbool\u001b[39m:\n\u001b[1;32m    409\u001b[0m     coll \u001b[38;5;241m=\u001b[39m \u001b[38;5;28mself\u001b[39m\u001b[38;5;241m.\u001b[39m_get_collection(collection_id)\n\u001b[0;32m--> 410\u001b[0m     \u001b[38;5;28;43mself\u001b[39;49m\u001b[38;5;241;43m.\u001b[39;49m\u001b[43m_manager\u001b[49m\u001b[38;5;241;43m.\u001b[39;49m\u001b[43mhint_use_collection\u001b[49m\u001b[43m(\u001b[49m\u001b[43mcollection_id\u001b[49m\u001b[43m,\u001b[49m\u001b[43m \u001b[49m\u001b[43mt\u001b[49m\u001b[38;5;241;43m.\u001b[39;49m\u001b[43mOperation\u001b[49m\u001b[38;5;241;43m.\u001b[39;49m\u001b[43mADD\u001b[49m\u001b[43m)\u001b[49m\n\u001b[1;32m    411\u001b[0m     validate_batch(\n\u001b[1;32m    412\u001b[0m         (ids, embeddings, metadatas, documents, uris),\n\u001b[1;32m    413\u001b[0m         {\u001b[38;5;124m\"\u001b[39m\u001b[38;5;124mmax_batch_size\u001b[39m\u001b[38;5;124m\"\u001b[39m: \u001b[38;5;28mself\u001b[39m\u001b[38;5;241m.\u001b[39mget_max_batch_size()},\n\u001b[1;32m    414\u001b[0m     )\n\u001b[1;32m    415\u001b[0m     records_to_submit \u001b[38;5;241m=\u001b[39m \u001b[38;5;28mlist\u001b[39m(\n\u001b[1;32m    416\u001b[0m         _records(\n\u001b[1;32m    417\u001b[0m             t\u001b[38;5;241m.\u001b[39mOperation\u001b[38;5;241m.\u001b[39mADD,\n\u001b[0;32m   (...)\u001b[0m\n\u001b[1;32m    423\u001b[0m         )\n\u001b[1;32m    424\u001b[0m     )\n",
      "File \u001b[0;32m~/.local/lib/python3.10/site-packages/chromadb/telemetry/opentelemetry/__init__.py:150\u001b[0m, in \u001b[0;36mtrace_method.<locals>.decorator.<locals>.wrapper\u001b[0;34m(*args, **kwargs)\u001b[0m\n\u001b[1;32m    148\u001b[0m \u001b[38;5;28;01mglobal\u001b[39;00m tracer, granularity\n\u001b[1;32m    149\u001b[0m \u001b[38;5;28;01mif\u001b[39;00m trace_granularity \u001b[38;5;241m<\u001b[39m granularity:\n\u001b[0;32m--> 150\u001b[0m     \u001b[38;5;28;01mreturn\u001b[39;00m \u001b[43mf\u001b[49m\u001b[43m(\u001b[49m\u001b[38;5;241;43m*\u001b[39;49m\u001b[43margs\u001b[49m\u001b[43m,\u001b[49m\u001b[43m \u001b[49m\u001b[38;5;241;43m*\u001b[39;49m\u001b[38;5;241;43m*\u001b[39;49m\u001b[43mkwargs\u001b[49m\u001b[43m)\u001b[49m\n\u001b[1;32m    151\u001b[0m \u001b[38;5;28;01mif\u001b[39;00m \u001b[38;5;129;01mnot\u001b[39;00m tracer:\n\u001b[1;32m    152\u001b[0m     \u001b[38;5;28;01mreturn\u001b[39;00m f(\u001b[38;5;241m*\u001b[39margs, \u001b[38;5;241m*\u001b[39m\u001b[38;5;241m*\u001b[39mkwargs)\n",
      "File \u001b[0;32m~/.local/lib/python3.10/site-packages/chromadb/segment/impl/manager/local.py:230\u001b[0m, in \u001b[0;36mLocalSegmentManager.hint_use_collection\u001b[0;34m(self, collection_id, hint_type)\u001b[0m\n\u001b[1;32m    220\u001b[0m \u001b[38;5;129m@trace_method\u001b[39m(\n\u001b[1;32m    221\u001b[0m     \u001b[38;5;124m\"\u001b[39m\u001b[38;5;124mLocalSegmentManager.hint_use_collection\u001b[39m\u001b[38;5;124m\"\u001b[39m,\n\u001b[1;32m    222\u001b[0m     OpenTelemetryGranularity\u001b[38;5;241m.\u001b[39mOPERATION_AND_SEGMENT,\n\u001b[0;32m   (...)\u001b[0m\n\u001b[1;32m    226\u001b[0m     \u001b[38;5;66;03m# The local segment manager responds to hints by pre-loading both the metadata and vector\u001b[39;00m\n\u001b[1;32m    227\u001b[0m     \u001b[38;5;66;03m# segments for the given collection.\u001b[39;00m\n\u001b[1;32m    228\u001b[0m     \u001b[38;5;28;01mfor\u001b[39;00m \u001b[38;5;28mtype\u001b[39m \u001b[38;5;129;01min\u001b[39;00m [MetadataReader, VectorReader]:\n\u001b[1;32m    229\u001b[0m         \u001b[38;5;66;03m# Just use get_segment to load the segment into the cache\u001b[39;00m\n\u001b[0;32m--> 230\u001b[0m         instance \u001b[38;5;241m=\u001b[39m \u001b[38;5;28;43mself\u001b[39;49m\u001b[38;5;241;43m.\u001b[39;49m\u001b[43mget_segment\u001b[49m\u001b[43m(\u001b[49m\u001b[43mcollection_id\u001b[49m\u001b[43m,\u001b[49m\u001b[43m \u001b[49m\u001b[38;5;28;43mtype\u001b[39;49m\u001b[43m)\u001b[49m\n\u001b[1;32m    231\u001b[0m         \u001b[38;5;66;03m# If the segment is a vector segment, we need to keep segments in an LRU cache\u001b[39;00m\n\u001b[1;32m    232\u001b[0m         \u001b[38;5;66;03m# to avoid hitting the OS file handle limit.\u001b[39;00m\n\u001b[1;32m    233\u001b[0m         \u001b[38;5;28;01mif\u001b[39;00m \u001b[38;5;28mtype\u001b[39m \u001b[38;5;241m==\u001b[39m VectorReader \u001b[38;5;129;01mand\u001b[39;00m \u001b[38;5;28mself\u001b[39m\u001b[38;5;241m.\u001b[39m_system\u001b[38;5;241m.\u001b[39msettings\u001b[38;5;241m.\u001b[39mrequire(\u001b[38;5;124m\"\u001b[39m\u001b[38;5;124mis_persistent\u001b[39m\u001b[38;5;124m\"\u001b[39m):\n",
      "File \u001b[0;32m~/.local/lib/python3.10/site-packages/chromadb/telemetry/opentelemetry/__init__.py:150\u001b[0m, in \u001b[0;36mtrace_method.<locals>.decorator.<locals>.wrapper\u001b[0;34m(*args, **kwargs)\u001b[0m\n\u001b[1;32m    148\u001b[0m \u001b[38;5;28;01mglobal\u001b[39;00m tracer, granularity\n\u001b[1;32m    149\u001b[0m \u001b[38;5;28;01mif\u001b[39;00m trace_granularity \u001b[38;5;241m<\u001b[39m granularity:\n\u001b[0;32m--> 150\u001b[0m     \u001b[38;5;28;01mreturn\u001b[39;00m \u001b[43mf\u001b[49m\u001b[43m(\u001b[49m\u001b[38;5;241;43m*\u001b[39;49m\u001b[43margs\u001b[49m\u001b[43m,\u001b[49m\u001b[43m \u001b[49m\u001b[38;5;241;43m*\u001b[39;49m\u001b[38;5;241;43m*\u001b[39;49m\u001b[43mkwargs\u001b[49m\u001b[43m)\u001b[49m\n\u001b[1;32m    151\u001b[0m \u001b[38;5;28;01mif\u001b[39;00m \u001b[38;5;129;01mnot\u001b[39;00m tracer:\n\u001b[1;32m    152\u001b[0m     \u001b[38;5;28;01mreturn\u001b[39;00m f(\u001b[38;5;241m*\u001b[39margs, \u001b[38;5;241m*\u001b[39m\u001b[38;5;241m*\u001b[39mkwargs)\n",
      "File \u001b[0;32m~/.local/lib/python3.10/site-packages/chromadb/segment/impl/manager/local.py:217\u001b[0m, in \u001b[0;36mLocalSegmentManager.get_segment\u001b[0;34m(self, collection_id, type)\u001b[0m\n\u001b[1;32m    214\u001b[0m \u001b[38;5;66;03m# Instances must be atomically created, so we use a lock to ensure that only one thread\u001b[39;00m\n\u001b[1;32m    215\u001b[0m \u001b[38;5;66;03m# creates the instance.\u001b[39;00m\n\u001b[1;32m    216\u001b[0m \u001b[38;5;28;01mwith\u001b[39;00m \u001b[38;5;28mself\u001b[39m\u001b[38;5;241m.\u001b[39m_lock:\n\u001b[0;32m--> 217\u001b[0m     instance \u001b[38;5;241m=\u001b[39m \u001b[38;5;28;43mself\u001b[39;49m\u001b[38;5;241;43m.\u001b[39;49m\u001b[43m_instance\u001b[49m\u001b[43m(\u001b[49m\u001b[43msegment\u001b[49m\u001b[43m)\u001b[49m\n\u001b[1;32m    218\u001b[0m \u001b[38;5;28;01mreturn\u001b[39;00m cast(S, instance)\n",
      "File \u001b[0;32m~/.local/lib/python3.10/site-packages/chromadb/segment/impl/manager/local.py:246\u001b[0m, in \u001b[0;36mLocalSegmentManager._instance\u001b[0;34m(self, segment)\u001b[0m\n\u001b[1;32m    244\u001b[0m \u001b[38;5;28;01mif\u001b[39;00m segment[\u001b[38;5;124m\"\u001b[39m\u001b[38;5;124mid\u001b[39m\u001b[38;5;124m\"\u001b[39m] \u001b[38;5;129;01mnot\u001b[39;00m \u001b[38;5;129;01min\u001b[39;00m \u001b[38;5;28mself\u001b[39m\u001b[38;5;241m.\u001b[39m_instances:\n\u001b[1;32m    245\u001b[0m     \u001b[38;5;28mcls\u001b[39m \u001b[38;5;241m=\u001b[39m \u001b[38;5;28mself\u001b[39m\u001b[38;5;241m.\u001b[39m_cls(segment)\n\u001b[0;32m--> 246\u001b[0m     instance \u001b[38;5;241m=\u001b[39m \u001b[38;5;28;43mcls\u001b[39;49m\u001b[43m(\u001b[49m\u001b[38;5;28;43mself\u001b[39;49m\u001b[38;5;241;43m.\u001b[39;49m\u001b[43m_system\u001b[49m\u001b[43m,\u001b[49m\u001b[43m \u001b[49m\u001b[43msegment\u001b[49m\u001b[43m)\u001b[49m\n\u001b[1;32m    247\u001b[0m     instance\u001b[38;5;241m.\u001b[39mstart()\n\u001b[1;32m    248\u001b[0m     \u001b[38;5;28mself\u001b[39m\u001b[38;5;241m.\u001b[39m_instances[segment[\u001b[38;5;124m\"\u001b[39m\u001b[38;5;124mid\u001b[39m\u001b[38;5;124m\"\u001b[39m]] \u001b[38;5;241m=\u001b[39m instance\n",
      "File \u001b[0;32m~/.local/lib/python3.10/site-packages/chromadb/segment/impl/vector/local_persistent_hnsw.py:117\u001b[0m, in \u001b[0;36mPersistentLocalHnswSegment.__init__\u001b[0;34m(self, system, segment)\u001b[0m\n\u001b[1;32m    115\u001b[0m \u001b[38;5;66;03m# Load persist data if it exists already, otherwise create it\u001b[39;00m\n\u001b[1;32m    116\u001b[0m \u001b[38;5;28;01mif\u001b[39;00m \u001b[38;5;28mself\u001b[39m\u001b[38;5;241m.\u001b[39m_index_exists():\n\u001b[0;32m--> 117\u001b[0m     \u001b[38;5;28mself\u001b[39m\u001b[38;5;241m.\u001b[39m_persist_data \u001b[38;5;241m=\u001b[39m \u001b[43mPersistentData\u001b[49m\u001b[38;5;241;43m.\u001b[39;49m\u001b[43mload_from_file\u001b[49m\u001b[43m(\u001b[49m\n\u001b[1;32m    118\u001b[0m \u001b[43m        \u001b[49m\u001b[38;5;28;43mself\u001b[39;49m\u001b[38;5;241;43m.\u001b[39;49m\u001b[43m_get_metadata_file\u001b[49m\u001b[43m(\u001b[49m\u001b[43m)\u001b[49m\n\u001b[1;32m    119\u001b[0m \u001b[43m    \u001b[49m\u001b[43m)\u001b[49m\n\u001b[1;32m    120\u001b[0m     \u001b[38;5;28mself\u001b[39m\u001b[38;5;241m.\u001b[39m_dimensionality \u001b[38;5;241m=\u001b[39m \u001b[38;5;28mself\u001b[39m\u001b[38;5;241m.\u001b[39m_persist_data\u001b[38;5;241m.\u001b[39mdimensionality\n\u001b[1;32m    121\u001b[0m     \u001b[38;5;28mself\u001b[39m\u001b[38;5;241m.\u001b[39m_total_elements_added \u001b[38;5;241m=\u001b[39m \u001b[38;5;28mself\u001b[39m\u001b[38;5;241m.\u001b[39m_persist_data\u001b[38;5;241m.\u001b[39mtotal_elements_added\n",
      "File \u001b[0;32m~/.local/lib/python3.10/site-packages/chromadb/segment/impl/vector/local_persistent_hnsw.py:75\u001b[0m, in \u001b[0;36mPersistentData.load_from_file\u001b[0;34m(filename)\u001b[0m\n\u001b[1;32m     73\u001b[0m \u001b[38;5;250m\u001b[39m\u001b[38;5;124;03m\"\"\"Load persistent data from a file\"\"\"\u001b[39;00m\n\u001b[1;32m     74\u001b[0m \u001b[38;5;28;01mwith\u001b[39;00m \u001b[38;5;28mopen\u001b[39m(filename, \u001b[38;5;124m\"\u001b[39m\u001b[38;5;124mrb\u001b[39m\u001b[38;5;124m\"\u001b[39m) \u001b[38;5;28;01mas\u001b[39;00m f:\n\u001b[0;32m---> 75\u001b[0m     ret \u001b[38;5;241m=\u001b[39m cast(PersistentData, \u001b[43mpickle\u001b[49m\u001b[38;5;241;43m.\u001b[39;49m\u001b[43mload\u001b[49m\u001b[43m(\u001b[49m\u001b[43mf\u001b[49m\u001b[43m)\u001b[49m)\n\u001b[1;32m     76\u001b[0m     \u001b[38;5;28;01mreturn\u001b[39;00m ret\n",
      "\u001b[0;31mEOFError\u001b[0m: Ran out of input"
     ]
    }
   ],
   "source": [
    "vectorstore.populate_vectors()"
   ]
  },
  {
   "cell_type": "code",
   "execution_count": 24,
   "metadata": {},
   "outputs": [
    {
     "name": "stdout",
     "output_type": "stream",
     "text": [
      "49165067\n"
     ]
    },
    {
     "ename": "EOFError",
     "evalue": "Ran out of input",
     "output_type": "error",
     "traceback": [
      "\u001b[0;31m---------------------------------------------------------------------------\u001b[0m",
      "\u001b[0;31mEOFError\u001b[0m                                  Traceback (most recent call last)",
      "Cell \u001b[0;32mIn[24], line 6\u001b[0m\n\u001b[1;32m      4\u001b[0m \u001b[38;5;28;01mwith\u001b[39;00m \u001b[38;5;28mopen\u001b[39m(filename, \u001b[38;5;124m\"\u001b[39m\u001b[38;5;124mrb\u001b[39m\u001b[38;5;124m\"\u001b[39m) \u001b[38;5;28;01mas\u001b[39;00m f:\n\u001b[1;32m      5\u001b[0m     unpickler \u001b[38;5;241m=\u001b[39m pickle\u001b[38;5;241m.\u001b[39mUnpickler(f)\n\u001b[0;32m----> 6\u001b[0m     \u001b[43munpickler\u001b[49m\u001b[38;5;241;43m.\u001b[39;49m\u001b[43mload\u001b[49m\u001b[43m(\u001b[49m\u001b[43m)\u001b[49m\n",
      "\u001b[0;31mEOFError\u001b[0m: Ran out of input"
     ]
    }
   ],
   "source": [
    "import pickle\n",
    "filename = '/data/sunmengjie/chromdb_back/smj_db/3a78fe48-b720-4d20-b1e5-42e5177b260c/index_metadata.pickle'\n",
    "print(os.path.getsize(filename))\n",
    "with open(filename, \"rb\") as f:\n",
    "    unpickler = pickle.Unpickler(f)\n",
    "    unpickler.load()"
   ]
  },
  {
   "cell_type": "code",
   "execution_count": 18,
   "metadata": {},
   "outputs": [],
   "source": [
    "results = vectorstore.collection.get(\n",
    "            where={'change': True},  # 过滤条件\n",
    "            # include=['ids'],  # 包含你想要的数据\n",
    "            limit= 100,\n",
    "            offset=0\n",
    "        )"
   ]
  },
  {
   "cell_type": "code",
   "execution_count": 19,
   "metadata": {},
   "outputs": [
    {
     "data": {
      "text/plain": [
       "{'ids': ['id_0'],\n",
       " 'embeddings': None,\n",
       " 'documents': ['The presence of communication amid scientific minds was equally important to the success of the Manhattan Project as scientific intellect was. The only cloud hanging over the impressive achievement of the atomic researchers and engineers is what their success truly meant; hundreds of thousands of innocent lives obliterated.'],\n",
       " 'uris': None,\n",
       " 'data': None,\n",
       " 'metadatas': [{'change': False, 'id': '0', 'title': ''}],\n",
       " 'included': [<IncludeEnum.documents: 'documents'>,\n",
       "  <IncludeEnum.metadatas: 'metadatas'>]}"
      ]
     },
     "execution_count": 19,
     "metadata": {},
     "output_type": "execute_result"
    }
   ],
   "source": [
    "vectorstore.collection.get('id_0')"
   ]
  },
  {
   "cell_type": "code",
   "execution_count": 20,
   "metadata": {},
   "outputs": [
    {
     "name": "stdout",
     "output_type": "stream",
     "text": [
      "befor clean\n"
     ]
    },
    {
     "data": {
      "text/plain": [
       "True"
      ]
     },
     "execution_count": 20,
     "metadata": {},
     "output_type": "execute_result"
    }
   ],
   "source": [
    "vectorstore.clean_collect()  "
   ]
  },
  {
   "cell_type": "code",
   "execution_count": 8,
   "metadata": {},
   "outputs": [
    {
     "name": "stderr",
     "output_type": "stream",
     "text": [
      "Some weights of the model checkpoint at facebook/contriever were not used when initializing Contriever: ['pooler.dense.bias', 'pooler.dense.weight']\n",
      "- This IS expected if you are initializing Contriever from the checkpoint of a model trained on another task or with another architecture (e.g. initializing a BertForSequenceClassification model from a BertForPreTraining model).\n",
      "- This IS NOT expected if you are initializing Contriever from the checkpoint of a model that you expect to be exactly identical (initializing a BertForSequenceClassification model from a BertForSequenceClassification model).\n"
     ]
    },
    {
     "name": "stdout",
     "output_type": "stream",
     "text": [
      "pretrained_model_name_or_path: /home/sunmengjie/lpz/vectordb/ragwatermark/rag/facebook/contriever\n",
      "/home/sunmengjie/lpz/vectordb/ragwatermark/datasets/msmarco\n",
      "/home/sunmengjie/lpz/vectordb/ragwatermark/datasets/msmarco\n"
     ]
    },
    {
     "name": "stderr",
     "output_type": "stream",
     "text": [
      "/home/sunmengjie/anaconda3/envs/graphrag/lib/python3.10/site-packages/transformers/tokenization_utils_base.py:1601: FutureWarning: `clean_up_tokenization_spaces` was not set. It will be set to `True` by default. This behavior will be depracted in transformers v4.45, and will be then set to `False` by default. For more details check this issue: https://github.com/huggingface/transformers/issues/31884\n",
      "  warnings.warn(\n"
     ]
    },
    {
     "data": {
      "application/vnd.jupyter.widget-view+json": {
       "model_id": "302bbc38862547e9b117ff4db57c66f6",
       "version_major": 2,
       "version_minor": 0
      },
      "text/plain": [
       "  0%|          | 0/8841823 [00:00<?, ?it/s]"
      ]
     },
     "metadata": {},
     "output_type": "display_data"
    },
    {
     "name": "stdout",
     "output_type": "stream",
     "text": [
      "[Collection(id=00240f28-d16e-4063-94b9-3ac33b5c3b74, name=nfcorpus_contriever_cosine_cp), Collection(id=1099390e-2963-4327-89ef-4876a5aa5811, name=trec-covid_contriever-msmarco_cosine), Collection(id=1a907522-8458-43e9-8dea-bfc3ca742780, name=trec-covid_contriever_ip), Collection(id=2100bc58-7286-4077-b239-1263b56366e2, name=msmarco_contriever_cosine), Collection(id=3c7be550-390e-47d5-91f3-d00d36428691, name=nfcorpus_contriever_ip), Collection(id=458ef60c-d7e0-435c-9bfe-d419cf64ff0d, name=trec-covid_contriever_l2), Collection(id=4675a4fd-fdfe-4558-a285-dcc143ae4e94, name=msmarco_contriever_ip), Collection(id=4fc45e89-fdc9-405e-b601-919e7ad28c42, name=msmarco_contriever_cosine_cp), Collection(id=5a6c3277-7720-4217-89bc-d1f33dea0521, name=trec-covid_ance_cosine), Collection(id=65bd62d2-357e-4e4e-9337-9edc14aa44ff, name=nfcorpus_contriever_l2), Collection(id=6e498ba8-8d58-4d6e-870c-0823dc0019f4, name=nfcorpus_ance_cosine), Collection(id=739e3418-092b-42af-a642-e5a91c3e590d, name=hotpotqa_contriever-msmarco_cosine), Collection(id=7e191293-0788-4d4c-833a-e0f5ad45941d, name=msmarco_contriever-msmarco_cosine), Collection(id=8e5abaa3-b1fe-4410-bd9a-d6f22d5b39c8, name=nq_contriever-msmarco_cosine), Collection(id=91e5da9b-f9e3-4ce2-b829-c0ac64616446, name=trec-covid_contriever_cosine_cp), Collection(id=92ed477a-0394-4ffc-b4da-f59d2f08333c, name=msmarco_ance_cosine), Collection(id=932ef964-5c8a-49bb-a5a9-c34c29927946, name=msmarco_contriever_l2), Collection(id=a6387d4b-d4b1-48a8-bb90-f81405a36d7f, name=nfcorpus_contriever_cosine), Collection(id=d67e1b21-66f8-4e74-9e06-b0a14d2d0a25, name=nq_contriever_cosine), Collection(id=e386b37d-2bc1-45dd-95f8-733e8aa7a348, name=nfcorpusinject), Collection(id=e63c0ce8-dbf3-45ed-86ce-9c1b88f767a2, name=nfcorpus_contriever-msmarco_cosine), Collection(id=f035a554-9ff3-4bf0-9a76-231ac046e12b, name=hotpotqa_contriever_cosine), Collection(id=f063cc45-164d-4dc0-93f1-f13a95a830cf, name=trec-covid_contriever_cosine)]\n",
      "Here are using an exsiting local chromadb named msmarco_contriever_l2!!! \n"
     ]
    }
   ],
   "source": [
    "# 清洗数据库\n",
    "eval_dataset = 'msmarco'\n",
    "eval_model_code = \"contriever\"\n",
    "score_function ='l2'\n",
    "collection_name = 'msmarco_contriever_l2'\n",
    "split='test'\n",
    "\n",
    "model, c_model, tokenizer, get_emb = load_models( eval_model_code)\n",
    "\n",
    "if eval_dataset == 'msmarco':\n",
    "    corpus, queries, qrels = load_beir_datasets('msmarco', 'train')\n",
    "else:\n",
    "    corpus, queries, qrels = load_beir_datasets(eval_dataset, split)\n",
    "\n",
    "vectorstore = VectorStore(model, tokenizer, get_emb, corpus, device, collection_name, use_local=True)  \n",
    "# vectorstore.clean_collect()  "
   ]
  },
  {
   "cell_type": "code",
   "execution_count": 20,
   "metadata": {},
   "outputs": [
    {
     "name": "stdout",
     "output_type": "stream",
     "text": [
      "[Collection(id=00240f28-d16e-4063-94b9-3ac33b5c3b74, name=nfcorpus_contriever_cosine_cp), Collection(id=1099390e-2963-4327-89ef-4876a5aa5811, name=trec-covid_contriever-msmarco_cosine), Collection(id=1a907522-8458-43e9-8dea-bfc3ca742780, name=trec-covid_contriever_ip), Collection(id=2100bc58-7286-4077-b239-1263b56366e2, name=msmarco_contriever_cosine), Collection(id=3c7be550-390e-47d5-91f3-d00d36428691, name=nfcorpus_contriever_ip), Collection(id=458ef60c-d7e0-435c-9bfe-d419cf64ff0d, name=trec-covid_contriever_l2), Collection(id=4675a4fd-fdfe-4558-a285-dcc143ae4e94, name=msmarco_contriever_ip), Collection(id=4fc45e89-fdc9-405e-b601-919e7ad28c42, name=msmarco_contriever_cosine_cp), Collection(id=5a6c3277-7720-4217-89bc-d1f33dea0521, name=trec-covid_ance_cosine), Collection(id=65bd62d2-357e-4e4e-9337-9edc14aa44ff, name=nfcorpus_contriever_l2), Collection(id=6e498ba8-8d58-4d6e-870c-0823dc0019f4, name=nfcorpus_ance_cosine), Collection(id=739e3418-092b-42af-a642-e5a91c3e590d, name=hotpotqa_contriever-msmarco_cosine), Collection(id=7e191293-0788-4d4c-833a-e0f5ad45941d, name=msmarco_contriever-msmarco_cosine), Collection(id=8e5abaa3-b1fe-4410-bd9a-d6f22d5b39c8, name=nq_contriever-msmarco_cosine), Collection(id=91e5da9b-f9e3-4ce2-b829-c0ac64616446, name=trec-covid_contriever_cosine_cp), Collection(id=92ed477a-0394-4ffc-b4da-f59d2f08333c, name=msmarco_ance_cosine), Collection(id=a6387d4b-d4b1-48a8-bb90-f81405a36d7f, name=nfcorpus_contriever_cosine), Collection(id=d67e1b21-66f8-4e74-9e06-b0a14d2d0a25, name=nq_contriever_cosine), Collection(id=e386b37d-2bc1-45dd-95f8-733e8aa7a348, name=nfcorpusinject), Collection(id=e63c0ce8-dbf3-45ed-86ce-9c1b88f767a2, name=nfcorpus_contriever-msmarco_cosine), Collection(id=f035a554-9ff3-4bf0-9a76-231ac046e12b, name=hotpotqa_contriever_cosine), Collection(id=f063cc45-164d-4dc0-93f1-f13a95a830cf, name=trec-covid_contriever_cosine), Collection(id=fb1a2977-9541-4f80-a110-f9a2db4eb770, name=msmarco_contriever_l2)]\n",
      "Here are using an exsiting local chromadb named msmarco_contriever_l2!!! \n"
     ]
    },
    {
     "ename": "EOFError",
     "evalue": "Ran out of input",
     "output_type": "error",
     "traceback": [
      "\u001b[0;31m---------------------------------------------------------------------------\u001b[0m",
      "\u001b[0;31mEOFError\u001b[0m                                  Traceback (most recent call last)",
      "Cell \u001b[0;32mIn[20], line 2\u001b[0m\n\u001b[1;32m      1\u001b[0m vectorstore \u001b[38;5;241m=\u001b[39m VectorStore(model, tokenizer, get_emb, corpus, device, collection_name, use_local\u001b[38;5;241m=\u001b[39m\u001b[38;5;28;01mTrue\u001b[39;00m)  \n\u001b[0;32m----> 2\u001b[0m resultss \u001b[38;5;241m=\u001b[39m \u001b[43mvectorstore\u001b[49m\u001b[38;5;241;43m.\u001b[39;49m\u001b[43msearch_context\u001b[49m\u001b[43m(\u001b[49m\u001b[38;5;124;43m\"\u001b[39;49m\u001b[38;5;124;43mwhat is live\u001b[39;49m\u001b[38;5;124;43m\"\u001b[39;49m\u001b[43m,\u001b[49m\u001b[38;5;241;43m5\u001b[39;49m\u001b[43m)\u001b[49m\n\u001b[1;32m      3\u001b[0m metadatas \u001b[38;5;241m=\u001b[39m resultss[\u001b[38;5;124m'\u001b[39m\u001b[38;5;124mmetadatas\u001b[39m\u001b[38;5;124m'\u001b[39m][\u001b[38;5;241m0\u001b[39m]\n\u001b[1;32m      4\u001b[0m metadatas\n",
      "Cell \u001b[0;32mIn[4], line 81\u001b[0m, in \u001b[0;36mVectorStore.search_context\u001b[0;34m(self, query, n_results)\u001b[0m\n\u001b[1;32m     79\u001b[0m \u001b[38;5;28;01mdef\u001b[39;00m \u001b[38;5;21msearch_context\u001b[39m(\u001b[38;5;28mself\u001b[39m, query, n_results ):\n\u001b[1;32m     80\u001b[0m     text_emb \u001b[38;5;241m=\u001b[39m \u001b[38;5;28mself\u001b[39m\u001b[38;5;241m.\u001b[39mget_embedding(query)\n\u001b[0;32m---> 81\u001b[0m     \u001b[38;5;28;01mreturn\u001b[39;00m \u001b[38;5;28;43mself\u001b[39;49m\u001b[38;5;241;43m.\u001b[39;49m\u001b[43mcollection\u001b[49m\u001b[38;5;241;43m.\u001b[39;49m\u001b[43mquery\u001b[49m\u001b[43m(\u001b[49m\u001b[43mquery_embeddings\u001b[49m\u001b[38;5;241;43m=\u001b[39;49m\u001b[43mtext_emb\u001b[49m\u001b[43m,\u001b[49m\u001b[43m \u001b[49m\u001b[43mn_results\u001b[49m\u001b[38;5;241;43m=\u001b[39;49m\u001b[43mn_results\u001b[49m\u001b[43m)\u001b[49m\n",
      "File \u001b[0;32m~/anaconda3/envs/graphrag/lib/python3.10/site-packages/chromadb/api/models/Collection.py:195\u001b[0m, in \u001b[0;36mCollection.query\u001b[0;34m(self, query_embeddings, query_texts, query_images, query_uris, n_results, where, where_document, include)\u001b[0m\n\u001b[1;32m    157\u001b[0m \u001b[38;5;250m\u001b[39m\u001b[38;5;124;03m\"\"\"Get the n_results nearest neighbor embeddings for provided query_embeddings or query_texts.\u001b[39;00m\n\u001b[1;32m    158\u001b[0m \n\u001b[1;32m    159\u001b[0m \u001b[38;5;124;03mArgs:\u001b[39;00m\n\u001b[0;32m   (...)\u001b[0m\n\u001b[1;32m    176\u001b[0m \n\u001b[1;32m    177\u001b[0m \u001b[38;5;124;03m\"\"\"\u001b[39;00m\n\u001b[1;32m    179\u001b[0m (\n\u001b[1;32m    180\u001b[0m     valid_query_embeddings,\n\u001b[1;32m    181\u001b[0m     valid_n_results,\n\u001b[0;32m   (...)\u001b[0m\n\u001b[1;32m    192\u001b[0m     include,\n\u001b[1;32m    193\u001b[0m )\n\u001b[0;32m--> 195\u001b[0m query_results \u001b[38;5;241m=\u001b[39m \u001b[38;5;28;43mself\u001b[39;49m\u001b[38;5;241;43m.\u001b[39;49m\u001b[43m_client\u001b[49m\u001b[38;5;241;43m.\u001b[39;49m\u001b[43m_query\u001b[49m\u001b[43m(\u001b[49m\n\u001b[1;32m    196\u001b[0m \u001b[43m    \u001b[49m\u001b[43mcollection_id\u001b[49m\u001b[38;5;241;43m=\u001b[39;49m\u001b[38;5;28;43mself\u001b[39;49m\u001b[38;5;241;43m.\u001b[39;49m\u001b[43mid\u001b[49m\u001b[43m,\u001b[49m\n\u001b[1;32m    197\u001b[0m \u001b[43m    \u001b[49m\u001b[43mquery_embeddings\u001b[49m\u001b[38;5;241;43m=\u001b[39;49m\u001b[43mvalid_query_embeddings\u001b[49m\u001b[43m,\u001b[49m\n\u001b[1;32m    198\u001b[0m \u001b[43m    \u001b[49m\u001b[43mn_results\u001b[49m\u001b[38;5;241;43m=\u001b[39;49m\u001b[43mvalid_n_results\u001b[49m\u001b[43m,\u001b[49m\n\u001b[1;32m    199\u001b[0m \u001b[43m    \u001b[49m\u001b[43mwhere\u001b[49m\u001b[38;5;241;43m=\u001b[39;49m\u001b[43mvalid_where\u001b[49m\u001b[43m,\u001b[49m\n\u001b[1;32m    200\u001b[0m \u001b[43m    \u001b[49m\u001b[43mwhere_document\u001b[49m\u001b[38;5;241;43m=\u001b[39;49m\u001b[43mvalid_where_document\u001b[49m\u001b[43m,\u001b[49m\n\u001b[1;32m    201\u001b[0m \u001b[43m    \u001b[49m\u001b[43minclude\u001b[49m\u001b[38;5;241;43m=\u001b[39;49m\u001b[43minclude\u001b[49m\u001b[43m,\u001b[49m\n\u001b[1;32m    202\u001b[0m \u001b[43m\u001b[49m\u001b[43m)\u001b[49m\n\u001b[1;32m    204\u001b[0m \u001b[38;5;28;01mreturn\u001b[39;00m \u001b[38;5;28mself\u001b[39m\u001b[38;5;241m.\u001b[39m_transform_query_response(query_results, include)\n",
      "File \u001b[0;32m~/anaconda3/envs/graphrag/lib/python3.10/site-packages/chromadb/telemetry/opentelemetry/__init__.py:146\u001b[0m, in \u001b[0;36mtrace_method.<locals>.decorator.<locals>.wrapper\u001b[0;34m(*args, **kwargs)\u001b[0m\n\u001b[1;32m    144\u001b[0m \u001b[38;5;28;01mglobal\u001b[39;00m tracer, granularity\n\u001b[1;32m    145\u001b[0m \u001b[38;5;28;01mif\u001b[39;00m trace_granularity \u001b[38;5;241m<\u001b[39m granularity:\n\u001b[0;32m--> 146\u001b[0m     \u001b[38;5;28;01mreturn\u001b[39;00m \u001b[43mf\u001b[49m\u001b[43m(\u001b[49m\u001b[38;5;241;43m*\u001b[39;49m\u001b[43margs\u001b[49m\u001b[43m,\u001b[49m\u001b[43m \u001b[49m\u001b[38;5;241;43m*\u001b[39;49m\u001b[38;5;241;43m*\u001b[39;49m\u001b[43mkwargs\u001b[49m\u001b[43m)\u001b[49m\n\u001b[1;32m    147\u001b[0m \u001b[38;5;28;01mif\u001b[39;00m \u001b[38;5;129;01mnot\u001b[39;00m tracer:\n\u001b[1;32m    148\u001b[0m     \u001b[38;5;28;01mreturn\u001b[39;00m f(\u001b[38;5;241m*\u001b[39margs, \u001b[38;5;241m*\u001b[39m\u001b[38;5;241m*\u001b[39mkwargs)\n",
      "File \u001b[0;32m~/anaconda3/envs/graphrag/lib/python3.10/site-packages/chromadb/rate_limiting/__init__.py:47\u001b[0m, in \u001b[0;36mrate_limit.<locals>.decorator.<locals>.wrapper\u001b[0;34m(self, *args, **kwargs)\u001b[0m\n\u001b[1;32m     42\u001b[0m \u001b[38;5;129m@wraps\u001b[39m(f)\n\u001b[1;32m     43\u001b[0m \u001b[38;5;28;01mdef\u001b[39;00m \u001b[38;5;21mwrapper\u001b[39m(\u001b[38;5;28mself\u001b[39m, \u001b[38;5;241m*\u001b[39margs: Any, \u001b[38;5;241m*\u001b[39m\u001b[38;5;241m*\u001b[39mkwargs: Dict[Any, Any]) \u001b[38;5;241m-\u001b[39m\u001b[38;5;241m>\u001b[39m Any:\n\u001b[1;32m     44\u001b[0m     \u001b[38;5;66;03m# If not rate limiting provider is present, just run and return the function.\u001b[39;00m\n\u001b[1;32m     46\u001b[0m     \u001b[38;5;28;01mif\u001b[39;00m \u001b[38;5;28mself\u001b[39m\u001b[38;5;241m.\u001b[39m_system\u001b[38;5;241m.\u001b[39msettings\u001b[38;5;241m.\u001b[39mchroma_rate_limiting_provider_impl \u001b[38;5;129;01mis\u001b[39;00m \u001b[38;5;28;01mNone\u001b[39;00m:\n\u001b[0;32m---> 47\u001b[0m         \u001b[38;5;28;01mreturn\u001b[39;00m \u001b[43mf\u001b[49m\u001b[43m(\u001b[49m\u001b[38;5;28;43mself\u001b[39;49m\u001b[43m,\u001b[49m\u001b[43m \u001b[49m\u001b[38;5;241;43m*\u001b[39;49m\u001b[43margs\u001b[49m\u001b[43m,\u001b[49m\u001b[43m \u001b[49m\u001b[38;5;241;43m*\u001b[39;49m\u001b[38;5;241;43m*\u001b[39;49m\u001b[43mkwargs\u001b[49m\u001b[43m)\u001b[49m\n\u001b[1;32m     49\u001b[0m     \u001b[38;5;28;01mif\u001b[39;00m subject \u001b[38;5;129;01min\u001b[39;00m kwargs:\n\u001b[1;32m     50\u001b[0m         subject_value \u001b[38;5;241m=\u001b[39m kwargs[subject]\n",
      "File \u001b[0;32m~/anaconda3/envs/graphrag/lib/python3.10/site-packages/chromadb/api/segment.py:717\u001b[0m, in \u001b[0;36mSegmentAPI._query\u001b[0;34m(self, collection_id, query_embeddings, n_results, where, where_document, include)\u001b[0m\n\u001b[1;32m    708\u001b[0m \u001b[38;5;28;01melse\u001b[39;00m:\n\u001b[1;32m    709\u001b[0m     query \u001b[38;5;241m=\u001b[39m t\u001b[38;5;241m.\u001b[39mVectorQuery(\n\u001b[1;32m    710\u001b[0m         vectors\u001b[38;5;241m=\u001b[39mquery_embeddings,\n\u001b[1;32m    711\u001b[0m         k\u001b[38;5;241m=\u001b[39mn_results,\n\u001b[0;32m   (...)\u001b[0m\n\u001b[1;32m    714\u001b[0m         options\u001b[38;5;241m=\u001b[39m\u001b[38;5;28;01mNone\u001b[39;00m,\n\u001b[1;32m    715\u001b[0m     )\n\u001b[0;32m--> 717\u001b[0m     vector_reader \u001b[38;5;241m=\u001b[39m \u001b[38;5;28;43mself\u001b[39;49m\u001b[38;5;241;43m.\u001b[39;49m\u001b[43m_manager\u001b[49m\u001b[38;5;241;43m.\u001b[39;49m\u001b[43mget_segment\u001b[49m\u001b[43m(\u001b[49m\u001b[43mcollection_id\u001b[49m\u001b[43m,\u001b[49m\u001b[43m \u001b[49m\u001b[43mVectorReader\u001b[49m\u001b[43m)\u001b[49m\n\u001b[1;32m    718\u001b[0m     results \u001b[38;5;241m=\u001b[39m vector_reader\u001b[38;5;241m.\u001b[39mquery_vectors(query)\n\u001b[1;32m    720\u001b[0m     \u001b[38;5;28;01mfor\u001b[39;00m result \u001b[38;5;129;01min\u001b[39;00m results:\n",
      "File \u001b[0;32m~/anaconda3/envs/graphrag/lib/python3.10/site-packages/chromadb/telemetry/opentelemetry/__init__.py:146\u001b[0m, in \u001b[0;36mtrace_method.<locals>.decorator.<locals>.wrapper\u001b[0;34m(*args, **kwargs)\u001b[0m\n\u001b[1;32m    144\u001b[0m \u001b[38;5;28;01mglobal\u001b[39;00m tracer, granularity\n\u001b[1;32m    145\u001b[0m \u001b[38;5;28;01mif\u001b[39;00m trace_granularity \u001b[38;5;241m<\u001b[39m granularity:\n\u001b[0;32m--> 146\u001b[0m     \u001b[38;5;28;01mreturn\u001b[39;00m \u001b[43mf\u001b[49m\u001b[43m(\u001b[49m\u001b[38;5;241;43m*\u001b[39;49m\u001b[43margs\u001b[49m\u001b[43m,\u001b[49m\u001b[43m \u001b[49m\u001b[38;5;241;43m*\u001b[39;49m\u001b[38;5;241;43m*\u001b[39;49m\u001b[43mkwargs\u001b[49m\u001b[43m)\u001b[49m\n\u001b[1;32m    147\u001b[0m \u001b[38;5;28;01mif\u001b[39;00m \u001b[38;5;129;01mnot\u001b[39;00m tracer:\n\u001b[1;32m    148\u001b[0m     \u001b[38;5;28;01mreturn\u001b[39;00m f(\u001b[38;5;241m*\u001b[39margs, \u001b[38;5;241m*\u001b[39m\u001b[38;5;241m*\u001b[39mkwargs)\n",
      "File \u001b[0;32m~/anaconda3/envs/graphrag/lib/python3.10/site-packages/chromadb/segment/impl/manager/local.py:217\u001b[0m, in \u001b[0;36mLocalSegmentManager.get_segment\u001b[0;34m(self, collection_id, type)\u001b[0m\n\u001b[1;32m    214\u001b[0m \u001b[38;5;66;03m# Instances must be atomically created, so we use a lock to ensure that only one thread\u001b[39;00m\n\u001b[1;32m    215\u001b[0m \u001b[38;5;66;03m# creates the instance.\u001b[39;00m\n\u001b[1;32m    216\u001b[0m \u001b[38;5;28;01mwith\u001b[39;00m \u001b[38;5;28mself\u001b[39m\u001b[38;5;241m.\u001b[39m_lock:\n\u001b[0;32m--> 217\u001b[0m     instance \u001b[38;5;241m=\u001b[39m \u001b[38;5;28;43mself\u001b[39;49m\u001b[38;5;241;43m.\u001b[39;49m\u001b[43m_instance\u001b[49m\u001b[43m(\u001b[49m\u001b[43msegment\u001b[49m\u001b[43m)\u001b[49m\n\u001b[1;32m    218\u001b[0m \u001b[38;5;28;01mreturn\u001b[39;00m cast(S, instance)\n",
      "File \u001b[0;32m~/anaconda3/envs/graphrag/lib/python3.10/site-packages/chromadb/segment/impl/manager/local.py:246\u001b[0m, in \u001b[0;36mLocalSegmentManager._instance\u001b[0;34m(self, segment)\u001b[0m\n\u001b[1;32m    244\u001b[0m \u001b[38;5;28;01mif\u001b[39;00m segment[\u001b[38;5;124m\"\u001b[39m\u001b[38;5;124mid\u001b[39m\u001b[38;5;124m\"\u001b[39m] \u001b[38;5;129;01mnot\u001b[39;00m \u001b[38;5;129;01min\u001b[39;00m \u001b[38;5;28mself\u001b[39m\u001b[38;5;241m.\u001b[39m_instances:\n\u001b[1;32m    245\u001b[0m     \u001b[38;5;28mcls\u001b[39m \u001b[38;5;241m=\u001b[39m \u001b[38;5;28mself\u001b[39m\u001b[38;5;241m.\u001b[39m_cls(segment)\n\u001b[0;32m--> 246\u001b[0m     instance \u001b[38;5;241m=\u001b[39m \u001b[38;5;28;43mcls\u001b[39;49m\u001b[43m(\u001b[49m\u001b[38;5;28;43mself\u001b[39;49m\u001b[38;5;241;43m.\u001b[39;49m\u001b[43m_system\u001b[49m\u001b[43m,\u001b[49m\u001b[43m \u001b[49m\u001b[43msegment\u001b[49m\u001b[43m)\u001b[49m\n\u001b[1;32m    247\u001b[0m     instance\u001b[38;5;241m.\u001b[39mstart()\n\u001b[1;32m    248\u001b[0m     \u001b[38;5;28mself\u001b[39m\u001b[38;5;241m.\u001b[39m_instances[segment[\u001b[38;5;124m\"\u001b[39m\u001b[38;5;124mid\u001b[39m\u001b[38;5;124m\"\u001b[39m]] \u001b[38;5;241m=\u001b[39m instance\n",
      "File \u001b[0;32m~/anaconda3/envs/graphrag/lib/python3.10/site-packages/chromadb/segment/impl/vector/local_persistent_hnsw.py:107\u001b[0m, in \u001b[0;36mPersistentLocalHnswSegment.__init__\u001b[0;34m(self, system, segment)\u001b[0m\n\u001b[1;32m    105\u001b[0m \u001b[38;5;66;03m# Load persist data if it exists already, otherwise create it\u001b[39;00m\n\u001b[1;32m    106\u001b[0m \u001b[38;5;28;01mif\u001b[39;00m \u001b[38;5;28mself\u001b[39m\u001b[38;5;241m.\u001b[39m_index_exists():\n\u001b[0;32m--> 107\u001b[0m     \u001b[38;5;28mself\u001b[39m\u001b[38;5;241m.\u001b[39m_persist_data \u001b[38;5;241m=\u001b[39m \u001b[43mPersistentData\u001b[49m\u001b[38;5;241;43m.\u001b[39;49m\u001b[43mload_from_file\u001b[49m\u001b[43m(\u001b[49m\n\u001b[1;32m    108\u001b[0m \u001b[43m        \u001b[49m\u001b[38;5;28;43mself\u001b[39;49m\u001b[38;5;241;43m.\u001b[39;49m\u001b[43m_get_metadata_file\u001b[49m\u001b[43m(\u001b[49m\u001b[43m)\u001b[49m\n\u001b[1;32m    109\u001b[0m \u001b[43m    \u001b[49m\u001b[43m)\u001b[49m\n\u001b[1;32m    110\u001b[0m     \u001b[38;5;28mself\u001b[39m\u001b[38;5;241m.\u001b[39m_dimensionality \u001b[38;5;241m=\u001b[39m \u001b[38;5;28mself\u001b[39m\u001b[38;5;241m.\u001b[39m_persist_data\u001b[38;5;241m.\u001b[39mdimensionality\n\u001b[1;32m    111\u001b[0m     \u001b[38;5;28mself\u001b[39m\u001b[38;5;241m.\u001b[39m_total_elements_added \u001b[38;5;241m=\u001b[39m \u001b[38;5;28mself\u001b[39m\u001b[38;5;241m.\u001b[39m_persist_data\u001b[38;5;241m.\u001b[39mtotal_elements_added\n",
      "File \u001b[0;32m~/anaconda3/envs/graphrag/lib/python3.10/site-packages/chromadb/segment/impl/vector/local_persistent_hnsw.py:70\u001b[0m, in \u001b[0;36mPersistentData.load_from_file\u001b[0;34m(filename)\u001b[0m\n\u001b[1;32m     68\u001b[0m \u001b[38;5;250m\u001b[39m\u001b[38;5;124;03m\"\"\"Load persistent data from a file\"\"\"\u001b[39;00m\n\u001b[1;32m     69\u001b[0m \u001b[38;5;28;01mwith\u001b[39;00m \u001b[38;5;28mopen\u001b[39m(filename, \u001b[38;5;124m\"\u001b[39m\u001b[38;5;124mrb\u001b[39m\u001b[38;5;124m\"\u001b[39m) \u001b[38;5;28;01mas\u001b[39;00m f:\n\u001b[0;32m---> 70\u001b[0m     ret \u001b[38;5;241m=\u001b[39m cast(PersistentData, \u001b[43mpickle\u001b[49m\u001b[38;5;241;43m.\u001b[39;49m\u001b[43mload\u001b[49m\u001b[43m(\u001b[49m\u001b[43mf\u001b[49m\u001b[43m)\u001b[49m)\n\u001b[1;32m     71\u001b[0m     \u001b[38;5;28;01mreturn\u001b[39;00m ret\n",
      "\u001b[0;31mEOFError\u001b[0m: Ran out of input"
     ]
    }
   ],
   "source": [
    "vectorstore = VectorStore(model, tokenizer, get_emb, corpus, device, collection_name, use_local=True)  \n",
    "resultss = vectorstore.search_context(\"what is live\",5)\n",
    "metadatas = resultss['metadatas'][0]\n",
    "metadatas"
   ]
  },
  {
   "cell_type": "code",
   "execution_count": 11,
   "metadata": {},
   "outputs": [
    {
     "data": {
      "text/plain": [
       "{'ids': [[]],\n",
       " 'distances': [[]],\n",
       " 'metadatas': [[]],\n",
       " 'embeddings': None,\n",
       " 'documents': [[]],\n",
       " 'uris': None,\n",
       " 'data': None,\n",
       " 'included': ['metadatas', 'documents', 'distances']}"
      ]
     },
     "execution_count": 11,
     "metadata": {},
     "output_type": "execute_result"
    }
   ],
   "source": [
    "resultss"
   ]
  },
  {
   "cell_type": "code",
   "execution_count": 8,
   "metadata": {},
   "outputs": [
    {
     "name": "stdout",
     "output_type": "stream",
     "text": [
      "[Collection(id=00240f28-d16e-4063-94b9-3ac33b5c3b74, name=nfcorpus_contriever_cosine_cp), Collection(id=1099390e-2963-4327-89ef-4876a5aa5811, name=trec-covid_contriever-msmarco_cosine), Collection(id=1a907522-8458-43e9-8dea-bfc3ca742780, name=trec-covid_contriever_ip), Collection(id=2100bc58-7286-4077-b239-1263b56366e2, name=msmarco_contriever_cosine), Collection(id=3c7be550-390e-47d5-91f3-d00d36428691, name=nfcorpus_contriever_ip), Collection(id=458ef60c-d7e0-435c-9bfe-d419cf64ff0d, name=trec-covid_contriever_l2), Collection(id=4675a4fd-fdfe-4558-a285-dcc143ae4e94, name=msmarco_contriever_ip), Collection(id=4fc45e89-fdc9-405e-b601-919e7ad28c42, name=msmarco_contriever_cosine_cp), Collection(id=5a6c3277-7720-4217-89bc-d1f33dea0521, name=trec-covid_ance_cosine), Collection(id=65bd62d2-357e-4e4e-9337-9edc14aa44ff, name=nfcorpus_contriever_l2), Collection(id=6e498ba8-8d58-4d6e-870c-0823dc0019f4, name=nfcorpus_ance_cosine), Collection(id=739e3418-092b-42af-a642-e5a91c3e590d, name=hotpotqa_contriever-msmarco_cosine), Collection(id=7e191293-0788-4d4c-833a-e0f5ad45941d, name=msmarco_contriever-msmarco_cosine), Collection(id=8e5abaa3-b1fe-4410-bd9a-d6f22d5b39c8, name=nq_contriever-msmarco_cosine), Collection(id=91e5da9b-f9e3-4ce2-b829-c0ac64616446, name=trec-covid_contriever_cosine_cp), Collection(id=92ed477a-0394-4ffc-b4da-f59d2f08333c, name=msmarco_ance_cosine), Collection(id=932ef964-5c8a-49bb-a5a9-c34c29927946, name=msmarco_contriever_l2), Collection(id=a6387d4b-d4b1-48a8-bb90-f81405a36d7f, name=nfcorpus_contriever_cosine), Collection(id=d67e1b21-66f8-4e74-9e06-b0a14d2d0a25, name=nq_contriever_cosine), Collection(id=e386b37d-2bc1-45dd-95f8-733e8aa7a348, name=nfcorpusinject), Collection(id=e63c0ce8-dbf3-45ed-86ce-9c1b88f767a2, name=nfcorpus_contriever-msmarco_cosine), Collection(id=f035a554-9ff3-4bf0-9a76-231ac046e12b, name=hotpotqa_contriever_cosine), Collection(id=f063cc45-164d-4dc0-93f1-f13a95a830cf, name=trec-covid_contriever_cosine)]\n",
      "Collection 总数: 4780999\n"
     ]
    },
    {
     "ename": "OperationalError",
     "evalue": "database is locked",
     "output_type": "error",
     "traceback": [
      "\u001b[0;31m---------------------------------------------------------------------------\u001b[0m",
      "\u001b[0;31mOperationalError\u001b[0m                          Traceback (most recent call last)",
      "Cell \u001b[0;32mIn[8], line 1\u001b[0m\n\u001b[0;32m----> 1\u001b[0m \u001b[43mdelete_collection\u001b[49m\u001b[43m(\u001b[49m\u001b[38;5;124;43m\"\u001b[39;49m\u001b[38;5;124;43mmsmarco_contriever_l2\u001b[39;49m\u001b[38;5;124;43m\"\u001b[39;49m\u001b[43m)\u001b[49m\n",
      "Cell \u001b[0;32mIn[6], line 43\u001b[0m, in \u001b[0;36mdelete_collection\u001b[0;34m(collection_name)\u001b[0m\n\u001b[1;32m     41\u001b[0m total_items \u001b[38;5;241m=\u001b[39m collection\u001b[38;5;241m.\u001b[39mcount()\n\u001b[1;32m     42\u001b[0m \u001b[38;5;28mprint\u001b[39m(\u001b[38;5;124mf\u001b[39m\u001b[38;5;124m\"\u001b[39m\u001b[38;5;124mCollection 总数: \u001b[39m\u001b[38;5;132;01m{\u001b[39;00mtotal_items\u001b[38;5;132;01m}\u001b[39;00m\u001b[38;5;124m\"\u001b[39m)\n\u001b[0;32m---> 43\u001b[0m \u001b[43mchroma_client\u001b[49m\u001b[38;5;241;43m.\u001b[39;49m\u001b[43mdelete_collection\u001b[49m\u001b[43m(\u001b[49m\u001b[43mname\u001b[49m\u001b[38;5;241;43m=\u001b[39;49m\u001b[43mcollection_name\u001b[49m\u001b[43m)\u001b[49m\n",
      "File \u001b[0;32m~/anaconda3/envs/graphrag/lib/python3.10/site-packages/chromadb/api/client.py:198\u001b[0m, in \u001b[0;36mClient.delete_collection\u001b[0;34m(self, name)\u001b[0m\n\u001b[1;32m    193\u001b[0m \u001b[38;5;129m@override\u001b[39m\n\u001b[1;32m    194\u001b[0m \u001b[38;5;28;01mdef\u001b[39;00m \u001b[38;5;21mdelete_collection\u001b[39m(\n\u001b[1;32m    195\u001b[0m     \u001b[38;5;28mself\u001b[39m,\n\u001b[1;32m    196\u001b[0m     name: \u001b[38;5;28mstr\u001b[39m,\n\u001b[1;32m    197\u001b[0m ) \u001b[38;5;241m-\u001b[39m\u001b[38;5;241m>\u001b[39m \u001b[38;5;28;01mNone\u001b[39;00m:\n\u001b[0;32m--> 198\u001b[0m     \u001b[38;5;28;01mreturn\u001b[39;00m \u001b[38;5;28;43mself\u001b[39;49m\u001b[38;5;241;43m.\u001b[39;49m\u001b[43m_server\u001b[49m\u001b[38;5;241;43m.\u001b[39;49m\u001b[43mdelete_collection\u001b[49m\u001b[43m(\u001b[49m\n\u001b[1;32m    199\u001b[0m \u001b[43m        \u001b[49m\u001b[43mname\u001b[49m\u001b[38;5;241;43m=\u001b[39;49m\u001b[43mname\u001b[49m\u001b[43m,\u001b[49m\n\u001b[1;32m    200\u001b[0m \u001b[43m        \u001b[49m\u001b[43mtenant\u001b[49m\u001b[38;5;241;43m=\u001b[39;49m\u001b[38;5;28;43mself\u001b[39;49m\u001b[38;5;241;43m.\u001b[39;49m\u001b[43mtenant\u001b[49m\u001b[43m,\u001b[49m\n\u001b[1;32m    201\u001b[0m \u001b[43m        \u001b[49m\u001b[43mdatabase\u001b[49m\u001b[38;5;241;43m=\u001b[39;49m\u001b[38;5;28;43mself\u001b[39;49m\u001b[38;5;241;43m.\u001b[39;49m\u001b[43mdatabase\u001b[49m\u001b[43m,\u001b[49m\n\u001b[1;32m    202\u001b[0m \u001b[43m    \u001b[49m\u001b[43m)\u001b[49m\n",
      "File \u001b[0;32m~/anaconda3/envs/graphrag/lib/python3.10/site-packages/chromadb/telemetry/opentelemetry/__init__.py:146\u001b[0m, in \u001b[0;36mtrace_method.<locals>.decorator.<locals>.wrapper\u001b[0;34m(*args, **kwargs)\u001b[0m\n\u001b[1;32m    144\u001b[0m \u001b[38;5;28;01mglobal\u001b[39;00m tracer, granularity\n\u001b[1;32m    145\u001b[0m \u001b[38;5;28;01mif\u001b[39;00m trace_granularity \u001b[38;5;241m<\u001b[39m granularity:\n\u001b[0;32m--> 146\u001b[0m     \u001b[38;5;28;01mreturn\u001b[39;00m \u001b[43mf\u001b[49m\u001b[43m(\u001b[49m\u001b[38;5;241;43m*\u001b[39;49m\u001b[43margs\u001b[49m\u001b[43m,\u001b[49m\u001b[43m \u001b[49m\u001b[38;5;241;43m*\u001b[39;49m\u001b[38;5;241;43m*\u001b[39;49m\u001b[43mkwargs\u001b[49m\u001b[43m)\u001b[49m\n\u001b[1;32m    147\u001b[0m \u001b[38;5;28;01mif\u001b[39;00m \u001b[38;5;129;01mnot\u001b[39;00m tracer:\n\u001b[1;32m    148\u001b[0m     \u001b[38;5;28;01mreturn\u001b[39;00m f(\u001b[38;5;241m*\u001b[39margs, \u001b[38;5;241m*\u001b[39m\u001b[38;5;241m*\u001b[39mkwargs)\n",
      "File \u001b[0;32m~/anaconda3/envs/graphrag/lib/python3.10/site-packages/chromadb/api/segment.py:318\u001b[0m, in \u001b[0;36mSegmentAPI.delete_collection\u001b[0;34m(self, name, tenant, database)\u001b[0m\n\u001b[1;32m    313\u001b[0m existing \u001b[38;5;241m=\u001b[39m \u001b[38;5;28mself\u001b[39m\u001b[38;5;241m.\u001b[39m_sysdb\u001b[38;5;241m.\u001b[39mget_collections(\n\u001b[1;32m    314\u001b[0m     name\u001b[38;5;241m=\u001b[39mname, tenant\u001b[38;5;241m=\u001b[39mtenant, database\u001b[38;5;241m=\u001b[39mdatabase\n\u001b[1;32m    315\u001b[0m )\n\u001b[1;32m    317\u001b[0m \u001b[38;5;28;01mif\u001b[39;00m existing:\n\u001b[0;32m--> 318\u001b[0m     \u001b[38;5;28;43mself\u001b[39;49m\u001b[38;5;241;43m.\u001b[39;49m\u001b[43m_sysdb\u001b[49m\u001b[38;5;241;43m.\u001b[39;49m\u001b[43mdelete_collection\u001b[49m\u001b[43m(\u001b[49m\n\u001b[1;32m    319\u001b[0m \u001b[43m        \u001b[49m\u001b[43mexisting\u001b[49m\u001b[43m[\u001b[49m\u001b[38;5;241;43m0\u001b[39;49m\u001b[43m]\u001b[49m\u001b[38;5;241;43m.\u001b[39;49m\u001b[43mid\u001b[49m\u001b[43m,\u001b[49m\u001b[43m \u001b[49m\u001b[43mtenant\u001b[49m\u001b[38;5;241;43m=\u001b[39;49m\u001b[43mtenant\u001b[49m\u001b[43m,\u001b[49m\u001b[43m \u001b[49m\u001b[43mdatabase\u001b[49m\u001b[38;5;241;43m=\u001b[39;49m\u001b[43mdatabase\u001b[49m\n\u001b[1;32m    320\u001b[0m \u001b[43m    \u001b[49m\u001b[43m)\u001b[49m\n\u001b[1;32m    321\u001b[0m     \u001b[38;5;28;01mfor\u001b[39;00m s \u001b[38;5;129;01min\u001b[39;00m \u001b[38;5;28mself\u001b[39m\u001b[38;5;241m.\u001b[39m_manager\u001b[38;5;241m.\u001b[39mdelete_segments(existing[\u001b[38;5;241m0\u001b[39m]\u001b[38;5;241m.\u001b[39mid):\n\u001b[1;32m    322\u001b[0m         \u001b[38;5;28mself\u001b[39m\u001b[38;5;241m.\u001b[39m_sysdb\u001b[38;5;241m.\u001b[39mdelete_segment(s)\n",
      "File \u001b[0;32m~/anaconda3/envs/graphrag/lib/python3.10/site-packages/chromadb/telemetry/opentelemetry/__init__.py:146\u001b[0m, in \u001b[0;36mtrace_method.<locals>.decorator.<locals>.wrapper\u001b[0;34m(*args, **kwargs)\u001b[0m\n\u001b[1;32m    144\u001b[0m \u001b[38;5;28;01mglobal\u001b[39;00m tracer, granularity\n\u001b[1;32m    145\u001b[0m \u001b[38;5;28;01mif\u001b[39;00m trace_granularity \u001b[38;5;241m<\u001b[39m granularity:\n\u001b[0;32m--> 146\u001b[0m     \u001b[38;5;28;01mreturn\u001b[39;00m \u001b[43mf\u001b[49m\u001b[43m(\u001b[49m\u001b[38;5;241;43m*\u001b[39;49m\u001b[43margs\u001b[49m\u001b[43m,\u001b[49m\u001b[43m \u001b[49m\u001b[38;5;241;43m*\u001b[39;49m\u001b[38;5;241;43m*\u001b[39;49m\u001b[43mkwargs\u001b[49m\u001b[43m)\u001b[49m\n\u001b[1;32m    147\u001b[0m \u001b[38;5;28;01mif\u001b[39;00m \u001b[38;5;129;01mnot\u001b[39;00m tracer:\n\u001b[1;32m    148\u001b[0m     \u001b[38;5;28;01mreturn\u001b[39;00m f(\u001b[38;5;241m*\u001b[39margs, \u001b[38;5;241m*\u001b[39m\u001b[38;5;241m*\u001b[39mkwargs)\n",
      "File \u001b[0;32m~/anaconda3/envs/graphrag/lib/python3.10/site-packages/chromadb/db/mixins/sysdb.py:528\u001b[0m, in \u001b[0;36mSqlSysDB.delete_collection\u001b[0;34m(self, id, tenant, database)\u001b[0m\n\u001b[1;32m    513\u001b[0m databases_t \u001b[38;5;241m=\u001b[39m Table(\u001b[38;5;124m\"\u001b[39m\u001b[38;5;124mdatabases\u001b[39m\u001b[38;5;124m\"\u001b[39m)\n\u001b[1;32m    514\u001b[0m q \u001b[38;5;241m=\u001b[39m (\n\u001b[1;32m    515\u001b[0m     \u001b[38;5;28mself\u001b[39m\u001b[38;5;241m.\u001b[39mquerybuilder()\n\u001b[1;32m    516\u001b[0m     \u001b[38;5;241m.\u001b[39mfrom_(t)\n\u001b[0;32m   (...)\u001b[0m\n\u001b[1;32m    526\u001b[0m     \u001b[38;5;241m.\u001b[39mdelete()\n\u001b[1;32m    527\u001b[0m )\n\u001b[0;32m--> 528\u001b[0m \u001b[38;5;28;01mwith\u001b[39;00m \u001b[38;5;28mself\u001b[39m\u001b[38;5;241m.\u001b[39mtx() \u001b[38;5;28;01mas\u001b[39;00m cur:\n\u001b[1;32m    529\u001b[0m     \u001b[38;5;66;03m# no need for explicit del from metadata table because of ON DELETE CASCADE\u001b[39;00m\n\u001b[1;32m    530\u001b[0m     sql, params \u001b[38;5;241m=\u001b[39m get_sql(q, \u001b[38;5;28mself\u001b[39m\u001b[38;5;241m.\u001b[39mparameter_format())\n\u001b[1;32m    531\u001b[0m     sql \u001b[38;5;241m=\u001b[39m sql \u001b[38;5;241m+\u001b[39m \u001b[38;5;124m\"\u001b[39m\u001b[38;5;124m RETURNING id\u001b[39m\u001b[38;5;124m\"\u001b[39m\n",
      "File \u001b[0;32m~/anaconda3/envs/graphrag/lib/python3.10/site-packages/chromadb/db/impl/sqlite.py:52\u001b[0m, in \u001b[0;36mTxWrapper.__exit__\u001b[0;34m(self, exc_type, exc_value, traceback)\u001b[0m\n\u001b[1;32m     50\u001b[0m \u001b[38;5;28;01mif\u001b[39;00m \u001b[38;5;28mlen\u001b[39m(\u001b[38;5;28mself\u001b[39m\u001b[38;5;241m.\u001b[39m_tx_stack\u001b[38;5;241m.\u001b[39mstack) \u001b[38;5;241m==\u001b[39m \u001b[38;5;241m0\u001b[39m:\n\u001b[1;32m     51\u001b[0m     \u001b[38;5;28;01mif\u001b[39;00m exc_type \u001b[38;5;129;01mis\u001b[39;00m \u001b[38;5;28;01mNone\u001b[39;00m:\n\u001b[0;32m---> 52\u001b[0m         \u001b[38;5;28;43mself\u001b[39;49m\u001b[38;5;241;43m.\u001b[39;49m\u001b[43m_conn\u001b[49m\u001b[38;5;241;43m.\u001b[39;49m\u001b[43mcommit\u001b[49m\u001b[43m(\u001b[49m\u001b[43m)\u001b[49m\n\u001b[1;32m     53\u001b[0m     \u001b[38;5;28;01melse\u001b[39;00m:\n\u001b[1;32m     54\u001b[0m         \u001b[38;5;28mself\u001b[39m\u001b[38;5;241m.\u001b[39m_conn\u001b[38;5;241m.\u001b[39mrollback()\n",
      "File \u001b[0;32m~/anaconda3/envs/graphrag/lib/python3.10/site-packages/chromadb/db/impl/sqlite_pool.py:31\u001b[0m, in \u001b[0;36mConnection.commit\u001b[0;34m(self)\u001b[0m\n\u001b[1;32m     30\u001b[0m \u001b[38;5;28;01mdef\u001b[39;00m \u001b[38;5;21mcommit\u001b[39m(\u001b[38;5;28mself\u001b[39m) \u001b[38;5;241m-\u001b[39m\u001b[38;5;241m>\u001b[39m \u001b[38;5;28;01mNone\u001b[39;00m:\n\u001b[0;32m---> 31\u001b[0m     \u001b[38;5;28;43mself\u001b[39;49m\u001b[38;5;241;43m.\u001b[39;49m\u001b[43m_conn\u001b[49m\u001b[38;5;241;43m.\u001b[39;49m\u001b[43mcommit\u001b[49m\u001b[43m(\u001b[49m\u001b[43m)\u001b[49m\n",
      "\u001b[0;31mOperationalError\u001b[0m: database is locked"
     ]
    }
   ],
   "source": [
    "delete_collection(\"msmarco_contriever_l2\")"
   ]
  },
  {
   "cell_type": "code",
   "execution_count": 11,
   "metadata": {},
   "outputs": [
    {
     "name": "stderr",
     "output_type": "stream",
     "text": [
      "Some weights of the model checkpoint at facebook/contriever were not used when initializing Contriever: ['pooler.dense.bias', 'pooler.dense.weight']\n",
      "- This IS expected if you are initializing Contriever from the checkpoint of a model trained on another task or with another architecture (e.g. initializing a BertForSequenceClassification model from a BertForPreTraining model).\n",
      "- This IS NOT expected if you are initializing Contriever from the checkpoint of a model that you expect to be exactly identical (initializing a BertForSequenceClassification model from a BertForSequenceClassification model).\n"
     ]
    },
    {
     "name": "stdout",
     "output_type": "stream",
     "text": [
      "pretrained_model_name_or_path: /home/sunmengjie/lpz/vectordb/ragwatermark/rag/facebook/contriever\n",
      "/home/sunmengjie/lpz/vectordb/ragwatermark/datasets/msmarco\n",
      "/home/sunmengjie/lpz/vectordb/ragwatermark/datasets/msmarco\n"
     ]
    },
    {
     "data": {
      "application/vnd.jupyter.widget-view+json": {
       "model_id": "90807845b704499ebb77d9e27dfeccc7",
       "version_major": 2,
       "version_minor": 0
      },
      "text/plain": [
       "  0%|          | 0/8841823 [00:00<?, ?it/s]"
      ]
     },
     "metadata": {},
     "output_type": "display_data"
    }
   ],
   "source": [
    "### load retriver model\n",
    "model, c_model, tokenizer, get_emb = load_models( eval_model_code)\n",
    "\n",
    "# load target queries and answers\n",
    "if  eval_dataset == 'msmarco':\n",
    "    corpus, queries, qrels = load_beir_datasets('msmarco', 'train')\n",
    "    \n",
    "else:\n",
    "    corpus, queries, qrels = load_beir_datasets( eval_dataset,  split)"
   ]
  },
  {
   "cell_type": "code",
   "execution_count": 12,
   "metadata": {},
   "outputs": [
    {
     "name": "stdout",
     "output_type": "stream",
     "text": [
      "type queris: <class 'dict'>\n",
      "key: 1185869\n",
      "item: )what was the immediate impact of the success of the manhattan project?\n",
      "type queris: <class 'dict'>\n",
      "key: 0\n",
      "item: {'text': 'The presence of communication amid scientific minds was equally important to the success of the Manhattan Project as scientific intellect was. The only cloud hanging over the impressive achievement of the atomic researchers and engineers is what their success truly meant; hundreds of thousands of innocent lives obliterated.', 'title': ''}\n",
      "type queris: <class 'dict'>\n",
      "key: 1185869\n",
      "item: {'0': 1}\n"
     ]
    }
   ],
   "source": [
    "print(f'type queris: {type(queries)}')\n",
    "\n",
    "for key, item in queries.items():\n",
    "    print(f'key: {key}')\n",
    "    print(f'item: {item}')\n",
    "    break\n",
    "\n",
    "print(f'type queris: {type(corpus)}')\n",
    "\n",
    "for key, item in corpus.items():\n",
    "    print(f'key: {key}')\n",
    "    print(f'item: {item}')\n",
    "    break\n",
    "\n",
    "print(f'type queris: {type(qrels)}')\n",
    "\n",
    "for key, item in qrels.items():\n",
    "    print(f'key: {key}')\n",
    "    print(f'item: {item}')\n",
    "    break"
   ]
  },
  {
   "cell_type": "code",
   "execution_count": 18,
   "metadata": {},
   "outputs": [
    {
     "name": "stdout",
     "output_type": "stream",
     "text": [
      "[Collection(id=00240f28-d16e-4063-94b9-3ac33b5c3b74, name=nfcorpus_contriever_cosine_cp), Collection(id=1099390e-2963-4327-89ef-4876a5aa5811, name=trec-covid_contriever-msmarco_cosine), Collection(id=1a907522-8458-43e9-8dea-bfc3ca742780, name=trec-covid_contriever_ip), Collection(id=2100bc58-7286-4077-b239-1263b56366e2, name=msmarco_contriever_cosine), Collection(id=3c7be550-390e-47d5-91f3-d00d36428691, name=nfcorpus_contriever_ip), Collection(id=458ef60c-d7e0-435c-9bfe-d419cf64ff0d, name=trec-covid_contriever_l2), Collection(id=45cadd60-a509-40d4-b11f-65e9ad75d51f, name=trec-covid_ance_cosine), Collection(id=4fc45e89-fdc9-405e-b601-919e7ad28c42, name=msmarco_contriever_cosine_cp), Collection(id=65bd62d2-357e-4e4e-9337-9edc14aa44ff, name=nfcorpus_contriever_l2), Collection(id=666d7ac8-7d30-4708-b06b-6c8d02afdd76, name=nfcorpus_contriever_cosine), Collection(id=6e498ba8-8d58-4d6e-870c-0823dc0019f4, name=nfcorpus_ance_cosine), Collection(id=739e3418-092b-42af-a642-e5a91c3e590d, name=hotpotqa_contriever-msmarco_cosine), Collection(id=7e191293-0788-4d4c-833a-e0f5ad45941d, name=msmarco_contriever-msmarco_cosine), Collection(id=8e5abaa3-b1fe-4410-bd9a-d6f22d5b39c8, name=nq_contriever-msmarco_cosine), Collection(id=91e5da9b-f9e3-4ce2-b829-c0ac64616446, name=trec-covid_contriever_cosine_cp), Collection(id=92ed477a-0394-4ffc-b4da-f59d2f08333c, name=msmarco_ance_cosine), Collection(id=d67e1b21-66f8-4e74-9e06-b0a14d2d0a25, name=nq_contriever_cosine), Collection(id=e386b37d-2bc1-45dd-95f8-733e8aa7a348, name=nfcorpusinject), Collection(id=e63c0ce8-dbf3-45ed-86ce-9c1b88f767a2, name=nfcorpus_contriever-msmarco_cosine), Collection(id=f035a554-9ff3-4bf0-9a76-231ac046e12b, name=hotpotqa_contriever_cosine), Collection(id=f063cc45-164d-4dc0-93f1-f13a95a830cf, name=trec-covid_contriever_cosine)]\n",
      "Collection 总数: 8841955\n",
      "8841823 8841955\n"
     ]
    }
   ],
   "source": [
    "\n",
    "datalen = len(corpus)\n",
    "collection_exist, collection_len = check_collection(collection_name)\n",
    "print(datalen,collection_len)\n",
    "# exit()\n",
    "if  collection_exist and datalen==collection_len:\n",
    "    use_local = True\n",
    " "
   ]
  },
  {
   "cell_type": "code",
   "execution_count": 12,
   "metadata": {},
   "outputs": [
    {
     "name": "stdout",
     "output_type": "stream",
     "text": [
      "[Collection(id=00240f28-d16e-4063-94b9-3ac33b5c3b74, name=nfcorpus_contriever_cosine_cp), Collection(id=1099390e-2963-4327-89ef-4876a5aa5811, name=trec-covid_contriever-msmarco_cosine), Collection(id=1a907522-8458-43e9-8dea-bfc3ca742780, name=trec-covid_contriever_ip), Collection(id=2100bc58-7286-4077-b239-1263b56366e2, name=msmarco_contriever_cosine), Collection(id=3c7be550-390e-47d5-91f3-d00d36428691, name=nfcorpus_contriever_ip), Collection(id=458ef60c-d7e0-435c-9bfe-d419cf64ff0d, name=trec-covid_contriever_l2), Collection(id=45cadd60-a509-40d4-b11f-65e9ad75d51f, name=trec-covid_ance_cosine), Collection(id=4fc45e89-fdc9-405e-b601-919e7ad28c42, name=msmarco_contriever_cosine_cp), Collection(id=65bd62d2-357e-4e4e-9337-9edc14aa44ff, name=nfcorpus_contriever_l2), Collection(id=666d7ac8-7d30-4708-b06b-6c8d02afdd76, name=nfcorpus_contriever_cosine), Collection(id=6e498ba8-8d58-4d6e-870c-0823dc0019f4, name=nfcorpus_ance_cosine), Collection(id=739e3418-092b-42af-a642-e5a91c3e590d, name=hotpotqa_contriever-msmarco_cosine), Collection(id=7e191293-0788-4d4c-833a-e0f5ad45941d, name=msmarco_contriever-msmarco_cosine), Collection(id=8e5abaa3-b1fe-4410-bd9a-d6f22d5b39c8, name=nq_contriever-msmarco_cosine), Collection(id=91e5da9b-f9e3-4ce2-b829-c0ac64616446, name=trec-covid_contriever_cosine_cp), Collection(id=92ed477a-0394-4ffc-b4da-f59d2f08333c, name=msmarco_ance_cosine), Collection(id=d67e1b21-66f8-4e74-9e06-b0a14d2d0a25, name=nq_contriever_cosine), Collection(id=e386b37d-2bc1-45dd-95f8-733e8aa7a348, name=nfcorpusinject), Collection(id=e63c0ce8-dbf3-45ed-86ce-9c1b88f767a2, name=nfcorpus_contriever-msmarco_cosine), Collection(id=f035a554-9ff3-4bf0-9a76-231ac046e12b, name=hotpotqa_contriever_cosine), Collection(id=f063cc45-164d-4dc0-93f1-f13a95a830cf, name=trec-covid_contriever_cosine)]\n",
      "Here are using an exsiting local chromadb named trec-covid_contriever_cosine_cp!!! \n"
     ]
    }
   ],
   "source": [
    "vectorstore = VectorStore(model, tokenizer, get_emb, corpus, device, collection_name, use_local=True)"
   ]
  },
  {
   "cell_type": "code",
   "execution_count": 13,
   "metadata": {},
   "outputs": [
    {
     "name": "stdout",
     "output_type": "stream",
     "text": [
      "{'ids': ['id_3431'], 'embeddings': None, 'metadatas': [{'change': False, 'id': '0q4kmajs', 'title': 'Technology developments in endovascular treatment of intracranial aneurysms.'}], 'documents': ['Advances in the management and endovascular treatment of intracranial aneurysms are progressing at a tremendous rate. Developments in novel imaging technology may improve diagnosis, risk stratification, treatment planning, intraprocedural assessment, and follow-up evaluation. Evolution of devices, including microwires, microcatheters, balloons, stents, and novel scaffolding devices, has greatly expanded the potential to treat difficult aneurysms. Although developments in technology have greatly improved the efficiency and efficacy of treatment of neurovascular disorders, novel devices do not always improve outcomes and may be associated with unique complications. As such, it is paramount to have an in-depth understanding of new devices and the implications of their introduction into clinical practice. This review provides an update on developments in endovascular treatment of intracranial aneurysms.'], 'uris': None, 'data': None, 'included': ['metadatas', 'documents']}\n"
     ]
    }
   ],
   "source": [
    "result = vectorstore.get_id('id_3431')\n",
    "print(result)"
   ]
  },
  {
   "cell_type": "code",
   "execution_count": 14,
   "metadata": {},
   "outputs": [
    {
     "data": {
      "text/plain": [
       "{'ids': [['id_75783', 'id_8165']],\n",
       " 'distances': [[0.5632043480873108, 0.5666478276252747]],\n",
       " 'metadatas': [[{'change': False,\n",
       "    'id': 'fuus2wef',\n",
       "    'title': 'Chapter 6 Developing a Framework for Investor Analysis of Hedge Fund Governance'},\n",
       "   {'change': False,\n",
       "    'id': '1q5tk1eq',\n",
       "    'title': 'Digitalization in management accounting and control: an editorial'}]],\n",
       " 'embeddings': None,\n",
       " 'documents': [['Abstract This chapter provides an investor framework for analyzing hedge fund governance. It discusses the relationship between the increased focus on operational due diligence and governance. The efforts of institutional investors such as the California Public Employees’ Retirement System (“CalPERS”) in promoting governance analysis are discussed. This chapter also outlines techniques for performing due diligence on fund directors including interview techniques and background investigations. Other topics covered in this chapter include the relationship of separately managed accounts with investor governance analysis and governance considerations for investor financial statement analysis.',\n",
       "   'Digitalization has the potential to disrupt the management accounting domain. It may not only affect the digital landscape of the organization and the associated business models, but also management accounting and control practices as well as the role of the controller. This editorial discusses these developments by introducing the concept of digitalization and describing its impact on the field of management accounting and control.']],\n",
       " 'uris': None,\n",
       " 'data': None,\n",
       " 'included': ['metadatas', 'documents', 'distances']}"
      ]
     },
     "execution_count": 14,
     "metadata": {},
     "output_type": "execute_result"
    }
   ],
   "source": [
    "vectorstore.search_context('what is non controlling interest on balance sheet',2)"
   ]
  },
  {
   "cell_type": "code",
   "execution_count": null,
   "metadata": {},
   "outputs": [],
   "source": [
    "vectorstore.inject_text('ok,ok.ok')"
   ]
  }
 ],
 "metadata": {
  "kernelspec": {
   "display_name": "wmrag",
   "language": "python",
   "name": "python3"
  },
  "language_info": {
   "codemirror_mode": {
    "name": "ipython",
    "version": 3
   },
   "file_extension": ".py",
   "mimetype": "text/x-python",
   "name": "python",
   "nbconvert_exporter": "python",
   "pygments_lexer": "ipython3",
   "version": "3.10.14"
  }
 },
 "nbformat": 4,
 "nbformat_minor": 2
}
